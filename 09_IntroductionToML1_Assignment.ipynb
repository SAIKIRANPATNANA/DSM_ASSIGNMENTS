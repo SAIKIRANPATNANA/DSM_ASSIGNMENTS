{
 "cells": [
  {
   "cell_type": "markdown",
   "metadata": {},
   "source": [
    "\n",
    "\n",
    "**Q1- Explain the following with an example:**\n",
    "\n",
    "**a) Artificial Intelligence (AI):**\n",
    "- Definition: AI refers to the simulation of human intelligence in machines that are programmed to think and learn like humans.\n",
    "- Example: Siri or Alexa are AI-powered digital assistants that can answer questions, set reminders, and perform tasks for users.\n",
    "\n",
    "**b) Machine Learning (ML):**\n",
    "- Definition: ML is a subset of AI that allows machines to automatically learn and improve from experience without being explicitly programmed.\n",
    "- Example: Email filtering systems use ML to automatically learn which emails are spam based on past patterns.\n",
    "\n",
    "**c) Deep Learning (DL):**\n",
    "- Definition: DL is a subset of ML that uses neural networks with many layers (hence \"deep\") to analyze various factors of data.\n",
    "- Example: Image recognition apps that can identify objects or even people's faces in photos utilize deep learning models.\n",
    "\n",
    "**Q2- What is supervised learning? List some examples of supervised learning.**\n",
    "- Supervised Learning is where the model is trained on labeled data, meaning the algorithm is provided with input-output pairs.\n",
    "- Examples: Linear regression, logistic regression, support vector machines, and most neural networks trained with labeled data.\n",
    "\n",
    "**Q3- What is unsupervised learning? List some examples of unsupervised learning.**\n",
    "- Unsupervised Learning is where the model is trained on unlabeled data, attempting to find patterns or relationships within it.\n",
    "- Examples: K-means clustering, hierarchical clustering, and principal component analysis.\n",
    "\n",
    "**Q4- What is the difference between AI, ML, DL, and DS (assuming DS stands for Data Science)?**\n",
    "- **AI**: Broad area of computer science focused on creating smart machines capable of performing tasks that require human intelligence.\n",
    "- **ML**: Subset of AI that allows machines to learn from data.\n",
    "- **DL**: Subset of ML, where algorithms are created and function similarly to neural networks in the human brain.\n",
    "- **DS**: Multi-disciplinary field focused on extracting knowledge and insights from structured and unstructured data using various methods including ML.\n",
    "\n",
    "**Q5- Differences between supervised, unsupervised, and semi-supervised learning.**\n",
    "- **Supervised**: Algorithm is trained on labeled data, meaning each example in the dataset is paired with the correct output.\n",
    "- **Unsupervised**: Algorithm is trained on unlabeled data, seeking to identify structure or patterns in the data.\n",
    "- **Semi-Supervised**: Uses both labeled and unlabeled data for training. Typically, a small amount of labeled and a large amount of unlabeled data are used.\n",
    "\n",
    "**Q6- Train, test, and validation split; Importance of each term.**\n",
    "- **Train**: Subset of data used to train the model. \n",
    "  - Importance: The main data on which the machine learns the patterns.\n",
    "- **Test**: Subset of data used to test the model after it's been trained.\n",
    "  - Importance: Helps gauge how well the model will perform on unseen data.\n",
    "- **Validation**: Subset of data used to fine-tune model parameters.\n",
    "  - Importance: Assists in model selection and to prevent overfitting.\n",
    "\n",
    "**Q7- How can unsupervised learning be used in anomaly detection?**\n",
    "- In unsupervised learning, the algorithm learns the general patterns or structures of the input data. For anomaly detection, after the model has learned these patterns, data points that don't fit these patterns (anomalies) can be identified. Example algorithms include Isolation Forest, One-Class SVM, and DBSCAN.\n",
    "\n",
    "**Q8- List down some commonly used supervised learning algorithms and unsupervised learning algorithms.**\n",
    "- **Supervised Learning Algorithms**: Linear regression, logistic regression, support vector machines, decision trees, random forests, gradient boosting machines, neural networks.\n",
    "- **Unsupervised Learning Algorithms**: K-means clustering, hierarchical clustering, DBSCAN, principal component analysis, autoencoders.\n"
   ]
  },
  {
   "cell_type": "markdown",
   "metadata": {},
   "source": []
  }
 ],
 "metadata": {
  "kernelspec": {
   "display_name": "Python 3.8.10 64-bit",
   "language": "python",
   "name": "python3"
  },
  "language_info": {
   "name": "python",
   "version": "3.8.10"
  },
  "orig_nbformat": 4,
  "vscode": {
   "interpreter": {
    "hash": "e7370f93d1d0cde622a1f8e1c04877d8463912d04d973331ad4851f04de6915a"
   }
  }
 },
 "nbformat": 4,
 "nbformat_minor": 2
}

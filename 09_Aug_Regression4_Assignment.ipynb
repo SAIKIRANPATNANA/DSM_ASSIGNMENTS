{
 "cells": [
  {
   "cell_type": "markdown",
   "metadata": {},
   "source": [
    "\n",
    "**Q1. What is Lasso Regression, and how does it differ from other regression techniques?**\n",
    "*Lasso Regression*:\n",
    "- Lasso Regression (Least Absolute Shrinkage and Selection Operator) is a regression analysis method that performs both variable selection and regularization. It aims to enhance the prediction accuracy and interpretability of statistical models.\n",
    "*Differences from other regression techniques*:\n",
    "- Standard linear regression focuses on minimizing the residual sum of squares. Lasso Regression introduces an L1 penalty on the absolute values of coefficients. This penalty can force some coefficients to become exactly zero, which is different from Ridge Regression, where coefficients tend towards zero but don't become exactly zero.\n",
    "\n",
    "**Q2. Main advantage of using Lasso Regression in feature selection**:\n",
    "- The key advantage of Lasso Regression is its ability to perform automatic feature selection. Due to the L1 penalty it introduces, Lasso can shrink some coefficients to exactly zero, effectively excluding those variables from the model, thus simplifying the model and highlighting the most influential features.\n",
    "\n",
    "**Q3. Interpretation of the coefficients of a Lasso Regression model**:\n",
    "- The coefficients in Lasso Regression represent the change in the dependent variable for a one-unit change in the predictor while keeping other predictors constant. Coefficients that are shrunk to zero indicate variables that are not influential in the presence of other variables. The magnitude of non-zero coefficients indicates the strength of the effect of each variable, with larger absolute values meaning a stronger effect.\n",
    "\n",
    "**Q4. Tuning parameters in Lasso Regression and their effects**:\n",
    "- The main tuning parameter in Lasso Regression is \\( \\lambda \\) (or alpha in some libraries). \\( \\lambda \\) controls the strength of the L1 penalty:\n",
    "  - When \\( \\lambda = 0 \\), Lasso reduces to ordinary least squares regression.\n",
    "  - As \\( \\lambda \\) increases, more coefficients become zero, which simplifies the model. If \\( \\lambda \\) is too large, it can overly simplify the model, leading to underfitting.\n",
    "\n",
    "**Q5. Lasso Regression for non-linear regression problems**:\n",
    "- Lasso Regression by default is linear. However, to capture non-linear relationships, it can be combined with polynomial regression or other basis function methods. This entails transforming the original input features to capture non-linearities and then applying Lasso Regression to select the most influential terms.\n",
    "\n",
    "**Q6. Difference between Ridge Regression and Lasso Regression**:\n",
    "- Both are regularization methods, but:\n",
    "  - Ridge Regression adds an L2 penalty (squared magnitude of coefficients) to the loss function. It tends to shrink all coefficients but doesn't force them to zero.\n",
    "  - Lasso Regression adds an L1 penalty (absolute value of coefficients). This can shrink some coefficients to zero, performing automatic feature selection.\n",
    "\n",
    "**Q7. Handling multicollinearity in Lasso Regression**:\n",
    "- Lasso Regression can handle multicollinearity by potentially shrinking coefficients of correlated features towards zero. Among correlated features, Lasso tends to retain one feature and set coefficients of others to zero, effectively choosing the most influential one.\n",
    "\n",
    "**Q8. Choosing the optimal value of \\( \\lambda \\) in Lasso Regression**:\n",
    "- The optimal value for \\( \\lambda \\) is typically found using cross-validation. Techniques like the `LassoCV` method in the Python scikit-learn library perform Lasso Regression with built-in cross-validation of the \\( \\lambda \\) parameter. The \\( \\lambda \\) that yields the lowest cross-validation error is chosen.\n",
    "\n"
   ]
  },
  {
   "cell_type": "markdown",
   "metadata": {},
   "source": []
  }
 ],
 "metadata": {
  "kernelspec": {
   "display_name": "Python 3.8.10 64-bit",
   "language": "python",
   "name": "python3"
  },
  "language_info": {
   "name": "python",
   "version": "3.8.10"
  },
  "orig_nbformat": 4,
  "vscode": {
   "interpreter": {
    "hash": "e7370f93d1d0cde622a1f8e1c04877d8463912d04d973331ad4851f04de6915a"
   }
  }
 },
 "nbformat": 4,
 "nbformat_minor": 2
}

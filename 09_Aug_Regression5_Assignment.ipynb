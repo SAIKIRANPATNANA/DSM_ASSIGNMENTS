{
 "cells": [
  {
   "cell_type": "markdown",
   "metadata": {},
   "source": [
    "**Q1. What is Elastic Net Regression and how does it differ from other regression techniques?**\n",
    "*Elastic Net Regression*:\n",
    "- Elastic Net is a linear regression model trained with both L1 and L2 regularization of the coefficients. It combines features from both Lasso and Ridge Regression.\n",
    "\n",
    "*Differences*:\n",
    "- While Ridge Regression adds L2 regularization and Lasso Regression adds L1 regularization, Elastic Net combines both. This makes Elastic Net beneficial when there are multiple correlated features, balancing the strengths and weaknesses of Lasso and Ridge.\n",
    "\n",
    "**Q2. How do you choose the optimal values of the regularization parameters for Elastic Net Regression?**\n",
    "- Cross-validation is typically used to select the optimal values of the regularization parameters in Elastic Net. Tools like `ElasticNetCV` in scikit-learn can automatically find the best parameters using cross-validation.\n",
    "\n",
    "**Q3. Advantages and Disadvantages of Elastic Net Regression**:\n",
    "*Advantages*:\n",
    "1. Combines the strengths of both Ridge and Lasso.\n",
    "2. Can handle multicollinearity well.\n",
    "3. Performs automatic feature selection similar to Lasso.\n",
    "\n",
    "*Disadvantages*:\n",
    "1. Requires tuning two parameters (L1 ratio and regularization strength), making it computationally more demanding than Ridge or Lasso.\n",
    "2. Can be sensitive to scaling of input features.\n",
    "\n",
    "**Q4. Common use cases for Elastic Net Regression**:\n",
    "- Elastic Net is particularly useful when:\n",
    "  1. There are multiple correlated features.\n",
    "  2. You want to benefit from both automatic feature selection and regularization of multicollinearity.\n",
    "\n",
    "**Q5. Interpretation of coefficients in Elastic Net Regression**:\n",
    "- Coefficients represent the change in the dependent variable for a one-unit change in the predictor. Features with coefficients set to zero are not influential in predicting the output given the other features.\n",
    "\n",
    "**Q6. Handling missing values in Elastic Net Regression**:\n",
    "- Before using Elastic Net (or any regression technique), missing values must be addressed. Common methods include:\n",
    "  1. Removing rows with missing values.\n",
    "  2. Imputing missing values using the mean, median, mode, or more advanced techniques like KNN imputation.\n",
    "  3. Using model-based imputation methods.\n",
    "\n",
    "**Q7. Using Elastic Net Regression for feature selection**:\n",
    "- Due to the L1 regularization component, Elastic Net can shrink some coefficients to exactly zero, effectively performing feature selection. Features with non-zero coefficients after training are the selected features.\n",
    "\n",
    "**Q8. Pickling and unpickling an Elastic Net Regression model in Python**:\n",
    "```python\n",
    "import pickle\n",
    "from sklearn.linear_model import ElasticNet\n",
    "\n",
    "# Train a model (as an example)\n",
    "model = ElasticNet().fit(X_train, y_train)\n",
    "\n",
    "# Pickle the model\n",
    "with open(\"elastic_net_model.pkl\", \"wb\") as f:\n",
    "    pickle.dump(model, f)\n",
    "\n",
    "# Unpickle the model\n",
    "with open(\"elastic_net_model.pkl\", \"rb\") as f:\n",
    "    loaded_model = pickle.load(f)\n",
    "```\n",
    "\n",
    "**Q9. Purpose of pickling a model in machine learning**:\n",
    "- Pickling is the process of serializing an object (like a machine learning model) into a byte stream. The main purposes are:\n",
    "  1. **Storage**: Save a trained model to disk so it doesn't need to be retrained.\n",
    "  2. **Deployment**: Use the saved model in production systems to make predictions on new data.\n",
    "  3. **Sharing**: Share models between data scientists or systems.\n",
    "\n"
   ]
  },
  {
   "cell_type": "markdown",
   "metadata": {},
   "source": []
  },
  {
   "cell_type": "code",
   "execution_count": 5,
   "metadata": {},
   "outputs": [
    {
     "data": {
      "text/plain": [
       "'#Q8:\\nimport pickle\\nfrom sklearn.linear_model import ElasticNet\\n\\n# Train a model (as an example)\\nmodel = ElasticNet().fit(X_train, y_train)\\n\\n# Pickle the model\\nwith open(\"elastic_net_model.pkl\", \"wb\") as f:\\n    pickle.dump(model, f)\\n\\n# Unpickle the model\\nwith open(\"elastic_net_model.pkl\", \"rb\") as f:\\n    pickle.load(f) '"
      ]
     },
     "execution_count": 5,
     "metadata": {},
     "output_type": "execute_result"
    }
   ],
   "source": [
    "#Q8:\n",
    "'''#Q8:\n",
    "import pickle\n",
    "from sklearn.linear_model import ElasticNet\n",
    "\n",
    "# Train a model (as an example)\n",
    "model = ElasticNet().fit(X_train, y_train)\n",
    "\n",
    "# Pickle the model\n",
    "with open(\"elastic_net_model.pkl\", \"wb\") as f:\n",
    "    pickle.dump(model, f)\n",
    "\n",
    "# Unpickle the model\n",
    "with open(\"elastic_net_model.pkl\", \"rb\") as f:\n",
    "    pickle.load(f) '''"
   ]
  },
  {
   "cell_type": "code",
   "execution_count": null,
   "metadata": {},
   "outputs": [],
   "source": []
  }
 ],
 "metadata": {
  "kernelspec": {
   "display_name": "Python 3.8.10 64-bit",
   "language": "python",
   "name": "python3"
  },
  "language_info": {
   "codemirror_mode": {
    "name": "ipython",
    "version": 3
   },
   "file_extension": ".py",
   "mimetype": "text/x-python",
   "name": "python",
   "nbconvert_exporter": "python",
   "pygments_lexer": "ipython3",
   "version": "3.8.10"
  },
  "orig_nbformat": 4,
  "vscode": {
   "interpreter": {
    "hash": "e7370f93d1d0cde622a1f8e1c04877d8463912d04d973331ad4851f04de6915a"
   }
  }
 },
 "nbformat": 4,
 "nbformat_minor": 2
}

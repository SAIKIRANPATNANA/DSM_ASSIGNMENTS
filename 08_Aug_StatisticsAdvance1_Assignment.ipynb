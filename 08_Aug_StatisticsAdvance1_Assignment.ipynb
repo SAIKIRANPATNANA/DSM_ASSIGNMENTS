{
 "cells": [
  {
   "cell_type": "markdown",
   "metadata": {},
   "source": [
    "\n",
    "### Q1. What is the Probability density function?\n",
    "- The Probability Density Function (PDF) is a function that provides the probabilities of possible outcomes for a continuous random variable. It describes the likelihood of a random variable to take on a specific value. In other words, the PDF provides a description of the distribution of the random variable.\n",
    "\n",
    "### Q2. What are the types of Probability distribution?\n",
    "- There are several types of probability distributions in statistics including:\n",
    "    1. Normal Distribution\n",
    "    2. Binomial Distribution\n",
    "    3. Uniform Distribution\n",
    "    4. Poisson Distribution\n",
    "    5. Exponential Distribution\n",
    "    6. Chi-Squared Distribution\n",
    "    7. Log-Normal Distribution\n",
    "    8. Gamma Distribution, and more.\n",
    "    9. Bernouli Distribution\n",
    "    10. Left-Skewed Disthribution\n",
    "    11. Powerlaw Distribution\n",
    "    12. Poreto Distribution\n",
    "\n",
    "### Q3. Write a Python function to calculate the probability density function of a normal distribution with given mean and standard deviation at a given point.\n",
    "```python\n",
    "import scipy.stats as stats\n",
    "\n",
    "def normal_pdf(x, mean, std_dev):\n",
    "    return stats.norm.pdf(x, mean, std_dev)\n",
    "\n",
    "# For example:\n",
    "print(normal_pdf(1, 0, 1)) # x=1, mean=0, std_dev=1\n",
    "```\n",
    "\n",
    "### Q4. What are the properties of Binomial distribution? Give two examples of events where binomial distribution can be applied.\n",
    "- Properties of Binomial Distribution are:\n",
    "    1. There are n identical trials. \n",
    "    2. Each trial has only two possible outcomes: Success (S) and Failure (F).\n",
    "    3. The probability of success (p) is the same in each trial. \n",
    "    4. The trials are independent.\n",
    "- Examples:\n",
    "    1. Tossing of a coin n times (heads = success, tails = failure).\n",
    "    2. Patients responding to a treatment in a medical experiment (response = success, no response = failure).\n",
    "\n",
    "### Q5. Generate a random sample of size 1000 from a binomial distribution with probability of success 0.4 and plot a histogram of the results using matplotlib.\n",
    "```python\n",
    "import numpy as np\n",
    "import matplotlib.pyplot as plt\n",
    "\n",
    "n, p, size = 10, 0.4, 1000\n",
    "s = np.random.binomial(n, p, size)\n",
    "plt.hist(s)\n",
    "plt.show()\n",
    "```\n",
    "\n",
    "### Q6. Write a Python function to calculate the cumulative distribution function of a Poisson distribution with given mean at a given point.\n",
    "```python\n",
    "def poisson_cdf(k, lambda_):\n",
    "    return stats.poisson.cdf(k, lambda_)\n",
    "\n",
    "# For example:\n",
    "print(poisson_cdf(2, 1)) # k=2, lambda=1\n",
    "```\n",
    "\n",
    "### Q7. How Binomial distribution different from Poisson distribution?\n",
    "- A Binomial distribution is a discrete probability distribution of the number of successes in a sequence of n independent experiments. Each experiment results in a success with probability p. In contrast, a Poisson distribution is a discrete probability distribution that expresses the probability of a given number of events occurring in a fixed interval of time or space. The events must occur with a known constant mean rate and be independent of the time since the last event.\n",
    "\n",
    "### Q8. Generate a random sample of size 1000 from a Poisson distribution with mean 5 and calculate the sample mean and variance.\n",
    "```python\n",
    "sample = np.random.poisson(5, 1000)\n",
    "mean = np.mean(sample)\n",
    "variance = np.var(sample)\n",
    "\n",
    "print(f'Mean: {mean}, Variance: {variance}')\n",
    "```\n",
    "\n",
    "### Q9. How mean and variance are related in Binomial distribution and Poisson distribution?\n",
    "- In a Binomial distribution, the mean is np and the variance is np(1-p), where n is the number of trials and p is the probability of success.\n",
    "- In a Poisson distribution, both the mean and the variance are equal to the rate parameter (lambda).\n",
    "\n",
    "### Q10. In normal distribution with respect to mean position, where does the least frequent data appear?\n",
    "- In a normal distribution, the least frequent data appear at the tails of the distribution, that is, far from the mean."
   ]
  },
  {
   "cell_type": "code",
   "execution_count": 2,
   "metadata": {},
   "outputs": [
    {
     "name": "stdout",
     "output_type": "stream",
     "text": [
      "0.24197072451914337\n"
     ]
    }
   ],
   "source": [
    "#Q3:\n",
    "import scipy.stats as stats\n",
    "def normal_pdf(x,mean,std):\n",
    "    return stats.norm.pdf(x,mean,std)\n",
    "print(normal_pdf(1,0,1)) # x=1, mean=0, std_dev=1"
   ]
  },
  {
   "cell_type": "code",
   "execution_count": 9,
   "metadata": {},
   "outputs": [
    {
     "name": "stdout",
     "output_type": "stream",
     "text": [
      "(array([  6.,  45., 109., 211., 282., 193., 105.,  35.,  13.,   1.]), array([0. , 0.9, 1.8, 2.7, 3.6, 4.5, 5.4, 6.3, 7.2, 8.1, 9. ]), <BarContainer object of 10 artists>)\n"
     ]
    },
    {
     "data": {
      "image/png": "[encoded data removed]",
      "text/plain": [
       "<Figure size 640x480 with 1 Axes>"
      ]
     },
     "metadata": {},
     "output_type": "display_data"
    }
   ],
   "source": [
    "#Q5:\n",
    "import matplotlib.pyplot as plt \n",
    "import numpy as np \n",
    "n, p, size = 10, 0.4, 1000\n",
    "s = np.random.binomial(n,p,size)\n",
    "# print(s)\n",
    "print(plt.hist(s))\n",
    "plt.show()\n"
   ]
  },
  {
   "cell_type": "code",
   "execution_count": 10,
   "metadata": {},
   "outputs": [
    {
     "name": "stdout",
     "output_type": "stream",
     "text": [
      "0.9196986029286058\n"
     ]
    }
   ],
   "source": [
    "#Q6:\n",
    "import scipy.stats as stats\n",
    "def poisson_cdf(k,lambda_):\n",
    "    return stats.poisson.cdf(k,lambda_)\n",
    "print(poisson_cdf(k=2,lambda_=1)) # k=2, lambda=1"
   ]
  },
  {
   "cell_type": "code",
   "execution_count": 6,
   "metadata": {},
   "outputs": [
    {
     "name": "stdout",
     "output_type": "stream",
     "text": [
      "Mean:4.934 and Variance:5.129644\n"
     ]
    }
   ],
   "source": [
    "#Q8:\n",
    "s = np.random.poisson(5,1000)\n",
    "mean = np.mean(s)\n",
    "var = np.var(s)\n",
    "print(f'Mean:{mean} and Variance:{var}')"
   ]
  }
 ],
 "metadata": {
  "kernelspec": {
   "display_name": "Python 3.8.10 64-bit",
   "language": "python",
   "name": "python3"
  },
  "language_info": {
   "codemirror_mode": {
    "name": "ipython",
    "version": 3
   },
   "file_extension": ".py",
   "mimetype": "text/x-python",
   "name": "python",
   "nbconvert_exporter": "python",
   "pygments_lexer": "ipython3",
   "version": "3.8.10"
  },
  "orig_nbformat": 4,
  "vscode": {
   "interpreter": {
    "hash": "e7370f93d1d0cde622a1f8e1c04877d8463912d04d973331ad4851f04de6915a"
   }
  }
 },
 "nbformat": 4,
 "nbformat_minor": 2
}

{
 "cells": [
  {
   "cell_type": "markdown",
   "metadata": {},
   "source": [
    "### Q1)What are the different data structures used in Tensorflow?. Give some examples?"
   ]
  },
  {
   "cell_type": "markdown",
   "metadata": {},
   "source": [
    "TensorFlow is a powerful deep learning library developed by Google that provides a myriad of functionalities. It allows users to perform complex operations on various types of data structures. Here are some important ones:\n",
    "\n",
    "1. **Tensors**: The central unit of data in TensorFlow is the Tensor. A tensor consists of a set of primitive values shaped into an array of any number of dimensions. A tensor's rank is its number of dimensions, while its shape is a tuple of integers specifying the array's length along each dimension.\n",
    "\n",
    "2. **Variables**: Variables are mutable tf.Tensor-like objects that persist between calls to tf.function. Variables are used to hold and update parameters during training a model. Variables are in-memory buffers containing tensors which can be used to maintain the state of a model during training and between different runs of the model.\n",
    "\n",
    "3. **Ragged Tensors**: A RaggedTensor is a tensor with one or more ragged dimensions. Ragged dimensions are dimensions with slices having various lengths. For example, the vector [5, 15, 25, 35] has one dimension with length 4, and the matrix [[3, 1, 4, 1], [5, 9, 2]] has two dimensions with lengths 2 and 4.\n",
    "\n",
    "4. **Sparse Tensors**: SparseTensors are used to store tensors that have a lot of zero elements. Instead of storing all the zero elements, TensorFlow allows us to represent these tensors in a compressed format in memory which can save a lot of memory for large scale computations.\n",
    "\n",
    "5. **Tensor Arrays**: TensorFlow also provides TensorArray which is a data structure that allows you to store tensors of a specific type and dynamic size.\n",
    "\n",
    "6. **Dataset**: tf.data.Dataset is one of the key TensorFlow data structures and is the most suitable for feeding in data into a model. It allows you to build complex input pipelines from simple and reusable pieces. You can load data from memory or from files, apply transformations, shuffle data, batch data, repeat data over epochs etc.\n",
    "\n",
    "Remember that all these data structures are designed to be efficient and scalable for working with large datasets and high-performance models, and they play a key role in TensorFlow's functionality.\n"
   ]
  },
  {
   "cell_type": "markdown",
   "metadata": {},
   "source": [
    "### Q2)How does the TensorFlow constant differ from a TensorFlow variable? Explain with an example?"
   ]
  },
  {
   "cell_type": "markdown",
   "metadata": {},
   "source": [
    "In TensorFlow, constants and variables are both types of Tensors, but they serve different purposes and have some key differences:\n",
    "\n",
    "**Constant:**\n",
    "A TensorFlow constant is an immutable tensor, meaning the value of the constant cannot be changed once it is set. They are used to store values that do not need to be changed or should not be changed during the execution of a TensorFlow program. \n",
    "\n",
    "Example:\n",
    "```python\n",
    "import tensorflow as tf\n",
    "\n",
    "# Define a constant\n",
    "const_tensor = tf.constant([[1.0, 2.0], [3.0, 4.0]])\n",
    "\n",
    "print(const_tensor)\n",
    "```\n",
    "\n",
    "**Variable:**\n",
    "A TensorFlow variable is a type of tensor that can hold variable values. They are mutable, and they provide a way to store and update the parameters in memory while a TensorFlow program is running. These are used for the weights and biases in a model during training, which are updated to optimize the model's performance.\n",
    "\n",
    "Example:\n",
    "```python\n",
    "import tensorflow as tf\n",
    "\n",
    "# Define a variable\n",
    "var_tensor = tf.Variable([[1.0, 2.0], [3.0, 4.0]])\n",
    "\n",
    "print(var_tensor)\n",
    "```\n",
    "In the Variable example, if we were running a machine learning model, the values in `var_tensor` would be updated as the model trains and learns from the data.\n",
    "\n",
    "In summary, constants are tensors whose values cannot be changed, while variables are tensors whose values can be changed. Variables are primarily used to store and update parameters during the training of a machine learning model."
   ]
  },
  {
   "cell_type": "code",
   "execution_count": 4,
   "metadata": {},
   "outputs": [],
   "source": [
    "import tensorflow as tf\n",
    "import warnings as warn\n",
    "warn.filterwarnings('ignore')"
   ]
  },
  {
   "cell_type": "code",
   "execution_count": 5,
   "metadata": {},
   "outputs": [
    {
     "name": "stdout",
     "output_type": "stream",
     "text": [
      "contant_tensor:  tf.Tensor([1 2 3], shape=(3,), dtype=int32)\n"
     ]
    }
   ],
   "source": [
    "con_tensor = tf.constant([1,2,3])\n",
    "print('contant_tensor: ', con_tensor)"
   ]
  },
  {
   "cell_type": "code",
   "execution_count": 8,
   "metadata": {},
   "outputs": [
    {
     "name": "stdout",
     "output_type": "stream",
     "text": [
      "variable_tensor:  <tf.Variable 'Variable:0' shape=(3,) dtype=int32, numpy=array([1, 2, 3], dtype=int32)>\n"
     ]
    }
   ],
   "source": [
    "var_tensor = tf.Variable([1,2,3])\n",
    "print('variable_tensor: ', var_tensor)"
   ]
  },
  {
   "cell_type": "markdown",
   "metadata": {},
   "source": [
    "### Q3)Describe the process of matrix addition, multiplication, and elementwise operations in TensorFlow."
   ]
  },
  {
   "cell_type": "markdown",
   "metadata": {},
   "source": [
    "TensorFlow operations are designed to act similarly to those of NumPy, the difference being that TensorFlow operations can be executed on GPU and TPU (Tensor Processing Unit) which make them suitable for deep learning tasks. Below, I will describe the process of matrix addition, multiplication and element-wise operations:\n",
    "\n",
    "**Matrix Addition:**\n",
    "Matrix addition in TensorFlow is done with the `tf.add()` function. The two matrices must have the same shape. Addition is performed element-wise.\n",
    "\n",
    "Example:\n",
    "```python\n",
    "import tensorflow as tf\n",
    "\n",
    "# Define two 2x2 matrices\n",
    "matrix1 = tf.constant([[1, 2], [3, 4]])\n",
    "matrix2 = tf.constant([[5, 6], [7, 8]])\n",
    "\n",
    "# Add the two matrices\n",
    "result = tf.add(matrix1, matrix2)\n",
    "\n",
    "print(result)\n",
    "```\n",
    "\n",
    "**Matrix Multiplication:**\n",
    "Matrix multiplication in TensorFlow is done with the `tf.matmul()` function. For multiplication, the inner dimensions of the two matrices must match, i.e., the number of columns in the first matrix should be equal to the number of rows in the second matrix.\n",
    "\n",
    "Example:\n",
    "```python\n",
    "import tensorflow as tf\n",
    "\n",
    "# Define two 2x2 matrices\n",
    "matrix1 = tf.constant([[1, 2], [3, 4]])\n",
    "matrix2 = tf.constant([[5, 6], [7, 8]])\n",
    "\n",
    "# Multiply the two matrices\n",
    "result = tf.matmul(matrix1, matrix2)\n",
    "\n",
    "print(result)\n",
    "```\n",
    "\n",
    "**Element-wise Operations:**\n",
    "Element-wise operations in TensorFlow perform the operation on each corresponding pair of elements in the input tensors. Both tensors must have the same shape. Examples of element-wise operations include `tf.multiply()`, `tf.subtract()`, and `tf.divide()`, which perform element-wise multiplication, subtraction, and division, respectively.\n",
    "\n",
    "Example:\n",
    "```python\n",
    "import tensorflow as tf\n",
    "\n",
    "# Define two 2x2 matrices\n",
    "matrix1 = tf.constant([[1, 2], [3, 4]])\n",
    "matrix2 = tf.constant([[5, 6], [7, 8]])\n",
    "\n",
    "# Multiply the elements of the two matrices\n",
    "result = tf.multiply(matrix1, matrix2)\n",
    "\n",
    "print(result)\n",
    "```\n",
    "\n",
    "In the last example, each element in `matrix1` is multiplied by the corresponding element in `matrix2`. The result is a new matrix of the same size, where each element is the product of the corresponding elements in the input matrices."
   ]
  },
  {
   "cell_type": "code",
   "execution_count": 9,
   "metadata": {},
   "outputs": [],
   "source": [
    "matrix_1 = tf.constant([[1,2],[3,4]])\n",
    "matrix_2 = tf.constant([[5,6],[7,8]])"
   ]
  },
  {
   "cell_type": "code",
   "execution_count": 10,
   "metadata": {},
   "outputs": [
    {
     "name": "stdout",
     "output_type": "stream",
     "text": [
      "tf.Tensor(\n",
      "[[19 22]\n",
      " [43 50]], shape=(2, 2), dtype=int32)\n"
     ]
    }
   ],
   "source": [
    "# matrix_multiplication:\n",
    "matrix_3 = tf.matmul(matrix_1,matrix_2)\n",
    "print(matrix_3)"
   ]
  },
  {
   "cell_type": "code",
   "execution_count": 11,
   "metadata": {},
   "outputs": [
    {
     "name": "stdout",
     "output_type": "stream",
     "text": [
      "tf.Tensor(\n",
      "[[ 5 12]\n",
      " [21 32]], shape=(2, 2), dtype=int32)\n"
     ]
    }
   ],
   "source": [
    "# element_wise_matrix_multiplication:\n",
    "matrix_4 = tf.multiply(matrix_1,matrix_2)\n",
    "print(matrix_4)"
   ]
  },
  {
   "cell_type": "code",
   "execution_count": 13,
   "metadata": {},
   "outputs": [
    {
     "name": "stdout",
     "output_type": "stream",
     "text": [
      "tf.Tensor(\n",
      "[[ 6  8]\n",
      " [10 12]], shape=(2, 2), dtype=int32)\n"
     ]
    }
   ],
   "source": [
    "# element_wise_matrix_addition:\n",
    "matrix_5 = tf.add(matrix_1,matrix_2)\n",
    "print(matrix_5)"
   ]
  },
  {
   "cell_type": "code",
   "execution_count": 14,
   "metadata": {},
   "outputs": [
    {
     "name": "stdout",
     "output_type": "stream",
     "text": [
      "tf.Tensor(\n",
      "[[-4 -4]\n",
      " [-4 -4]], shape=(2, 2), dtype=int32)\n"
     ]
    }
   ],
   "source": [
    "#element_wise_matrix_subtraction:\n",
    "matrix_6 = tf.subtract(matrix_1,matrix_2)\n",
    "print(matrix_6)"
   ]
  },
  {
   "cell_type": "code",
   "execution_count": 16,
   "metadata": {},
   "outputs": [
    {
     "name": "stdout",
     "output_type": "stream",
     "text": [
      "tf.Tensor(\n",
      "[[0.2        0.33333333]\n",
      " [0.42857143 0.5       ]], shape=(2, 2), dtype=float64)\n"
     ]
    }
   ],
   "source": [
    "#element_wise_matrix_division:\n",
    "matrix_7 = tf.divide(matrix_1,matrix_2)\n",
    "print(matrix_7)"
   ]
  },
  {
   "cell_type": "markdown",
   "metadata": {},
   "source": [
    "### Q4) Create a normal matrix A with dimensions 3x3, using TensorFlow's random_normal function. Display the\n",
    "### values of matrix."
   ]
  },
  {
   "cell_type": "code",
   "execution_count": 16,
   "metadata": {},
   "outputs": [
    {
     "name": "stdout",
     "output_type": "stream",
     "text": [
      "tf.Tensor(\n",
      "[[ 1.2204043  -0.86378205]\n",
      " [-2.5576425  -0.45346898]], shape=(2, 2), dtype=float32)\n"
     ]
    }
   ],
   "source": [
    "matrix_A = tf.random.normal([2,2])\n",
    "print(matrix_A)"
   ]
  },
  {
   "cell_type": "markdown",
   "metadata": {},
   "source": [
    "### Q5)Create a Gaussian matrix B with dimensions 4x4, using TensorFlow's truncated_normal function. Display\n",
    "### the values of matrix ?"
   ]
  },
  {
   "cell_type": "code",
   "execution_count": 14,
   "metadata": {},
   "outputs": [],
   "source": [
    "matrix_B = tf.random.truncated_normal([4,4])"
   ]
  },
  {
   "cell_type": "code",
   "execution_count": 15,
   "metadata": {},
   "outputs": [
    {
     "data": {
      "text/plain": [
       "<tf.Tensor: shape=(4, 4), dtype=float32, numpy=\n",
       "array([[ 0.11047924,  1.4483912 , -0.5696285 , -0.8958883 ],\n",
       "       [-0.3176454 ,  0.24417815,  0.5076688 ,  0.57597804],\n",
       "       [ 0.32547414,  0.34376755, -0.59777266, -0.06139382],\n",
       "       [ 0.1826524 , -0.50290066,  0.31121877, -0.37787908]],\n",
       "      dtype=float32)>"
      ]
     },
     "execution_count": 15,
     "metadata": {},
     "output_type": "execute_result"
    }
   ],
   "source": [
    "matrix_B"
   ]
  },
  {
   "cell_type": "markdown",
   "metadata": {},
   "source": [
    "### Q6) Create a matrix C with dimensions 2x2, where the values are drawn from a normal distribution with a\n",
    "### mean of 3 and a standard deviation of 0.5, using TensorFlow's random.normal function. Display the values\n",
    "### of matrix ?"
   ]
  },
  {
   "cell_type": "code",
   "execution_count": 8,
   "metadata": {},
   "outputs": [
    {
     "name": "stdout",
     "output_type": "stream",
     "text": [
      "tf.Tensor(\n",
      "[[3.290537  3.142058 ]\n",
      " [3.4322107 3.3441517]], shape=(2, 2), dtype=float32)\n"
     ]
    }
   ],
   "source": [
    "matrix_C =  tf.random.normal([2,2],mean=3,stddev=1/2)\n",
    "print(matrix_C)"
   ]
  },
  {
   "cell_type": "code",
   "execution_count": 4,
   "metadata": {},
   "outputs": [],
   "source": [
    "import tensorflow as tf"
   ]
  },
  {
   "cell_type": "markdown",
   "metadata": {},
   "source": [
    "### Q7) Perform matrix addition between matrix A and matrix B, and store the result in matrix?"
   ]
  },
  {
   "cell_type": "code",
   "execution_count": 22,
   "metadata": {},
   "outputs": [
    {
     "name": "stdout",
     "output_type": "stream",
     "text": [
      "tf.Tensor(\n",
      "[[ 0.789521   -1.1513541 ]\n",
      " [-1.5341549  -0.42759207]], shape=(2, 2), dtype=float32)\n"
     ]
    }
   ],
   "source": [
    "# matrix_D = tf.add(matrix_A,matrix_B)\n",
    "# it returns an error because matrix_A is of shape 3X3 and matrix_B is of shape 4X4.\n",
    "# so let's do a small change\n",
    "matrix_B = tf.random.truncated_normal([2,2])\n",
    "matrix_D = tf.add(matrix_A,matrix_B)\n",
    "print(matrix_D)\n"
   ]
  },
  {
   "cell_type": "markdown",
   "metadata": {},
   "source": [
    "### Q8)Perform matrix multiplication between matrix C and matrix D, and store the result in matrix E?"
   ]
  },
  {
   "cell_type": "code",
   "execution_count": 25,
   "metadata": {},
   "outputs": [
    {
     "name": "stdout",
     "output_type": "stream",
     "text": [
      "tf.Tensor(\n",
      "[[-2.2224555 -5.1320925]\n",
      " [-2.4206445 -5.3816223]], shape=(2, 2), dtype=float32)\n"
     ]
    }
   ],
   "source": [
    "matrix_E = tf.matmul(matrix_C,matrix_D)\n",
    "print(matrix_E)"
   ]
  },
  {
   "cell_type": "markdown",
   "metadata": {},
   "source": [
    "### Q9) Create a matrix F with dimensions 2x2, initialized with random values using TensorFlow's random_uniform\n",
    "### function."
   ]
  },
  {
   "cell_type": "code",
   "execution_count": 29,
   "metadata": {},
   "outputs": [
    {
     "name": "stdout",
     "output_type": "stream",
     "text": [
      "tf.Tensor(\n",
      "[[7.192681  6.7761254 9.997926 ]\n",
      " [9.12328   4.8675966 4.8256445]\n",
      " [2.5821447 6.2538815 4.691206 ]], shape=(3, 3), dtype=float32)\n"
     ]
    }
   ],
   "source": [
    "matrix_F = tf.random.uniform([3,3],minval=0,maxval=10)\n",
    "print(matrix_F)"
   ]
  },
  {
   "cell_type": "markdown",
   "metadata": {},
   "source": [
    "### Q10)Calculate the transpose of matrix F and store the result in matrix G.\n"
   ]
  },
  {
   "cell_type": "code",
   "execution_count": 31,
   "metadata": {},
   "outputs": [
    {
     "name": "stdout",
     "output_type": "stream",
     "text": [
      "tf.Tensor(\n",
      "[[7.192681  9.12328   2.5821447]\n",
      " [6.7761254 4.8675966 6.2538815]\n",
      " [9.997926  4.8256445 4.691206 ]], shape=(3, 3), dtype=float32)\n"
     ]
    }
   ],
   "source": [
    "matrix_G = tf.transpose(matrix_F)\n",
    "print(matrix_G)"
   ]
  },
  {
   "cell_type": "markdown",
   "metadata": {},
   "source": [
    "### Q11)Calculate the elementDwise exponential of matrix F and store the result in matrix H."
   ]
  },
  {
   "cell_type": "code",
   "execution_count": 38,
   "metadata": {},
   "outputs": [
    {
     "name": "stdout",
     "output_type": "stream",
     "text": [
      "tf.Tensor(\n",
      "[[1.32966296e+03 9.16621387e+03 1.32254725e+01]\n",
      " [8.76665405e+02 1.30008087e+02 5.20027344e+02]\n",
      " [2.19808242e+04 1.24666786e+02 1.08984535e+02]], shape=(3, 3), dtype=float32)\n"
     ]
    }
   ],
   "source": [
    "matrix_H = tf.exp(matrix_G)\n",
    "print(matrix_H)"
   ]
  },
  {
   "cell_type": "code",
   "execution_count": 43,
   "metadata": {},
   "outputs": [
    {
     "data": {
      "text/plain": [
       "TensorShape([3, 3])"
      ]
     },
     "execution_count": 43,
     "metadata": {},
     "output_type": "execute_result"
    }
   ],
   "source": [
    "matrix_G.shape"
   ]
  },
  {
   "cell_type": "markdown",
   "metadata": {},
   "source": [
    "### Q12)Create a matrix I by concatenating matrix F and matrix G horizontally."
   ]
  },
  {
   "cell_type": "code",
   "execution_count": 45,
   "metadata": {},
   "outputs": [
    {
     "name": "stdout",
     "output_type": "stream",
     "text": [
      "tf.Tensor(\n",
      "[[7.192681  6.7761254 9.997926  7.192681  9.12328   2.5821447]\n",
      " [9.12328   4.8675966 4.8256445 6.7761254 4.8675966 6.2538815]\n",
      " [2.5821447 6.2538815 4.691206  9.997926  4.8256445 4.691206 ]], shape=(3, 6), dtype=float32)\n"
     ]
    }
   ],
   "source": [
    "matrix_I = tf.concat([matrix_F,matrix_G],axis=1)\n",
    "print(matrix_I)"
   ]
  },
  {
   "cell_type": "markdown",
   "metadata": {},
   "source": [
    "### Q13) Create a matrix J by concatenating matrix F and matrix H vertically."
   ]
  },
  {
   "cell_type": "code",
   "execution_count": 47,
   "metadata": {},
   "outputs": [
    {
     "name": "stdout",
     "output_type": "stream",
     "text": [
      "tf.Tensor(\n",
      "[[7.19268084e+00 6.77612543e+00 9.99792576e+00]\n",
      " [9.12327957e+00 4.86759663e+00 4.82564449e+00]\n",
      " [2.58214474e+00 6.25388145e+00 4.69120598e+00]\n",
      " [1.32966296e+03 9.16621387e+03 1.32254725e+01]\n",
      " [8.76665405e+02 1.30008087e+02 5.20027344e+02]\n",
      " [2.19808242e+04 1.24666786e+02 1.08984535e+02]], shape=(6, 3), dtype=float32)\n"
     ]
    }
   ],
   "source": [
    "matrix_J = tf.concat([matrix_F,matrix_H],axis=0)\n",
    "print(matrix_J)"
   ]
  },
  {
   "cell_type": "markdown",
   "metadata": {},
   "source": []
  }
 ],
 "metadata": {
  "kernelspec": {
   "display_name": "Python 3.8.10 64-bit",
   "language": "python",
   "name": "python3"
  },
  "language_info": {
   "codemirror_mode": {
    "name": "ipython",
    "version": 3
   },
   "file_extension": ".py",
   "mimetype": "text/x-python",
   "name": "python",
   "nbconvert_exporter": "python",
   "pygments_lexer": "ipython3",
   "version": "3.8.10"
  },
  "orig_nbformat": 4,
  "vscode": {
   "interpreter": {
    "hash": "e7370f93d1d0cde622a1f8e1c04877d8463912d04d973331ad4851f04de6915a"
   }
  }
 },
 "nbformat": 4,
 "nbformat_minor": 2
}

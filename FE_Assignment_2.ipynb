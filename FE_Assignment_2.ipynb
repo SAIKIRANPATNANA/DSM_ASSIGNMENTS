{
 "cells": [
  {
   "cell_type": "markdown",
   "metadata": {},
   "source": [
    "**Q1: Data Encoding**\n",
    "\n",
    "Data encoding is the process of converting categorical or textual data into numerical representations that can be used by machine learning algorithms. It is useful in data science because many machine learning algorithms require numerical input data. Encoding categorical variables allows us to include this information in our models and make predictions based on it.\n",
    "\n",
    "**Q2: Nominal Encoding**\n",
    "\n",
    "Nominal encoding, also known as label encoding, involves assigning a unique numerical label to each category in a categorical variable. It is typically used for ordinal variables where the categories have a natural ordering.\n",
    "\n",
    "**Example:**\n",
    "Suppose we have a dataset with a \"Size\" column containing categories like \"Small,\" \"Medium,\" and \"Large.\" We can use nominal encoding to convert these categories into numerical labels like 0, 1, and 2, respectively.\n",
    "\n",
    "**Q3: Situations for Nominal Encoding over One-Hot Encoding**\n",
    "\n",
    "Nominal encoding is preferred over one-hot encoding when:\n",
    "- The categorical variable has a large number of unique categories, making one-hot encoding inefficient in terms of memory and computational resources.\n",
    "- There is an inherent order or hierarchy among the categories, which can be effectively represented by numerical labels.\n",
    "\n",
    "**Example:**\n",
    "Consider a dataset with a \"Temperature\" column containing categories like \"Low,\" \"Medium,\" and \"High.\" Since there is a natural order to these categories, nominal encoding can be used to represent them as 0, 1, and 2, respectively.\n",
    "\n",
    "**Q4: Choice of Encoding Technique**\n",
    "\n",
    "If the dataset contains categorical data with 5 unique values, I would choose nominal encoding. This is because nominal encoding assigns a unique numerical label to each category, resulting in a single numerical column representing the categorical variable. Given the limited number of unique values (5), nominal encoding would be efficient and sufficient for representing the categorical data.\n",
    "\n",
    "**Q5: Calculation of New Columns**\n",
    "\n",
    "If we were to use nominal encoding to transform two categorical columns in a dataset with 1000 rows, each categorical column would result in only one new column. Therefore, the total number of new columns created would be 2.\n",
    "\n",
    "**Explanation:**\n",
    "Nominal encoding assigns a unique numerical label to each category in a categorical variable. Since there are two categorical columns, each column would be transformed into one new numerical column.\n",
    "\n",
    "**Q6: Encoding Technique for Animal Dataset**\n",
    "\n",
    "For the dataset containing information about different types of animals, including their species, habitat, and diet, I would use one-hot encoding. This is because the categorical variables (species, habitat, diet) do not have an inherent order or hierarchy, and each category is distinct. One-hot encoding would create separate binary columns for each category, representing their presence or absence in each observation, which is suitable for machine learning algorithms.\n",
    "\n",
    "**Q7: Encoding Technique for Customer Churn Project**\n",
    "\n",
    "For the project involving predicting customer churn for a telecommunications company, I would use a combination of nominal encoding and standardization for the categorical and numerical features, respectively.\n",
    "\n",
    "**Step-by-step Explanation:**\n",
    "1. **Nominal Encoding (Label Encoding):** Encode categorical features like gender and contract type using nominal encoding, assigning a unique numerical label to each category.\n",
    "2. **Standardization (Numerical Features):** Standardize numerical features like age, monthly charges, and tenure using techniques such as z-score standardization to scale them to a similar range and prevent features with larger magnitudes from dominating the model training process.\n",
    "\n",
    "By encoding categorical data into numerical representations and standardizing numerical features, we can prepare the dataset for machine learning algorithms that require numerical input."
   ]
  },
  {
   "cell_type": "code",
   "execution_count": null,
   "metadata": {},
   "outputs": [],
   "source": []
  }
 ],
 "metadata": {
  "language_info": {
   "name": "python"
  }
 },
 "nbformat": 4,
 "nbformat_minor": 2
}

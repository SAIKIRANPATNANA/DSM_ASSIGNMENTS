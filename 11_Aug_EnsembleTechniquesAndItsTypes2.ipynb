{
 "cells": [
  {
   "cell_type": "markdown",
   "metadata": {},
   "source": [
    "**Q1. What is Random Forest Regressor?**\n",
    "\n",
    "*Answer*: A Random Forest Regressor is an ensemble machine learning algorithm that constructs multiple decision trees during training and outputs the average prediction of the individual trees for regression tasks. It combines the predictions from multiple trees to produce a more accurate and robust prediction than a single decision tree.\n",
    "\n",
    "**Q2. How does Random Forest Regressor reduce the risk of overfitting?**\n",
    "\n",
    "*Answer*: Random Forest reduces the risk of overfitting by:\n",
    "- Using bootstrapped datasets to train each tree, ensuring each tree is exposed to a subset of the data.\n",
    "- At each node, only a random subset of features is considered for splitting, which adds additional randomness and diversity to the tree-building process.\n",
    "- Aggregating predictions from multiple trees, which reduces the variance without increasing the bias.\n",
    "\n",
    "**Q3. How does Random Forest Regressor aggregate the predictions of multiple decision trees?**\n",
    "\n",
    "*Answer*: In the case of a Random Forest Regressor, predictions from individual trees are averaged to produce the final prediction.\n",
    "\n",
    "**Q4. What are the hyperparameters of Random Forest Regressor?**\n",
    "\n",
    "*Answer*: Some of the commonly tuned hyperparameters for Random Forest Regressor include:\n",
    "- `n_estimators`: Number of trees in the forest.\n",
    "- `max_depth`: Maximum depth of the tree.\n",
    "- `min_samples_split`: Minimum number of samples required to split an internal node.\n",
    "- `min_samples_leaf`: Minimum number of samples required to be at a leaf node.\n",
    "- `max_features`: The number of features to consider when looking for the best split.\n",
    "- `bootstrap`: Whether bootstrap samples are used when building trees.\n",
    "\n",
    "**Q5. What is the difference between Random Forest Regressor and Decision Tree Regressor?**\n",
    "\n",
    "*Answer*: The primary difference is that a Decision Tree Regressor consists of a single tree, while a Random Forest Regressor is an ensemble of multiple decision trees. Due to this ensemble nature, Random Forests are generally more robust and accurate than a single decision tree, as they average out errors and reduce overfitting.\n",
    "\n",
    "**Q6. What are the advantages and disadvantages of Random Forest Regressor?**\n",
    "\n",
    "*Answer*:\n",
    "*Advantages*:\n",
    "- Typically yields a more accurate model than individual trees.\n",
    "- Handles missing values and outliers well.\n",
    "- Can model non-linear relationships.\n",
    "- Offers feature importance metrics.\n",
    "  \n",
    "*Disadvantages*:\n",
    "- Can be computationally intensive, especially with a large number of trees.\n",
    "- Less interpretable than a single decision tree.\n",
    "- Longer training times.\n",
    "\n",
    "**Q7. What is the output of Random Forest Regressor?**\n",
    "\n",
    "*Answer*: The output of a Random Forest Regressor is a continuous value which is the average of the predictions made by the individual trees in the forest for a given input.\n",
    "\n",
    "**Q8. Can Random Forest Regressor be used for classification tasks?**\n",
    "\n",
    "*Answer*: No, the Random Forest Regressor is specifically designed for regression tasks. However, there is a counterpart, Random Forest Classifier, which is designed for classification tasks. The principle remains similar; the classifier outputs the mode (majority class) of individual trees, whereas the regressor outputs the average of the trees."
   ]
  },
  {
   "cell_type": "markdown",
   "metadata": {},
   "source": []
  }
 ],
 "metadata": {
  "kernelspec": {
   "display_name": "Python 3.8.10 64-bit",
   "language": "python",
   "name": "python3"
  },
  "language_info": {
   "name": "python",
   "version": "3.8.10"
  },
  "orig_nbformat": 4,
  "vscode": {
   "interpreter": {
    "hash": "e7370f93d1d0cde622a1f8e1c04877d8463912d04d973331ad4851f04de6915a"
   }
  }
 },
 "nbformat": 4,
 "nbformat_minor": 2
}

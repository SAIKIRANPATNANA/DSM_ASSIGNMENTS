{
 "cells": [
  {
   "cell_type": "markdown",
   "metadata": {},
   "source": [
    "### Q1. What are the three measures of central tendency\n",
    "The three measures of central tendency are:\n",
    "\n",
    "Mean\n",
    "\n",
    "Median\n",
    "\n",
    "Mode\n"
   ]
  },
  {
   "cell_type": "markdown",
   "metadata": {},
   "source": [
    "### Q2. What is the difference between the mean, median, and mode? How are they used to measure the central tendency of a dataset?\n",
    "\n",
    "Mean: It is the arithmetic average of all the data points in a dataset. It is calculated by summing up all the values and dividing by the total number of values. The mean is sensitive to extreme values and is commonly used for normally distributed data.\n",
    "\n",
    "Median: It is the middle value in a sorted dataset. If the dataset has an even number of data points, the median is the average of the two middle values. The median is less affected by extreme values and is useful for datasets with outliers.\n",
    "\n",
    "Mode: It is the most frequently occurring value in a dataset. A dataset can have one mode, more than one mode (bimodal or multimodal), or no mode (if all values occur equally). The mode is useful for categorical data and discrete datasets."
   ]
  },
  {
   "cell_type": "markdown",
   "metadata": {},
   "source": [
    "### Q3. Measure the three measures of central tendency for the given height data: [178,177,176,177,178.2,178,175,179,180,175,178.9,176.2,177,172.5,178,176.5]\n",
    "Mean = (178 + 177 + 176 + 177 + 178.2 + 178 + 175 + 179 + 180 + 175 + 178.9 + 176.2 + 177 + 172.5 + 178 + 176.5) / 16 = 177.775\n",
    "\n",
    "Median = 177.75 (average of 177 and 178)\n",
    "\n",
    "Mode = 177 (appears twice, the most frequent value)\n",
    "\n"
   ]
  },
  {
   "cell_type": "code",
   "execution_count": 1,
   "metadata": {},
   "outputs": [
    {
     "name": "stdout",
     "output_type": "stream",
     "text": [
      "Mean =  177.01875\n",
      "Medain=  177.0\n",
      "Mode=  178\n"
     ]
    }
   ],
   "source": [
    "data = [178,177,176,177,178.2,178,175,179,180,175,178.9,176.2,177,172.5,178,176.5]\n",
    "import statistics as stats\n",
    "mean = stats.mean(data)\n",
    "median = stats.median(data)\n",
    "mode = stats.mode(data)\n",
    "print('Mean = ', mean)\n",
    "print('Medain= ', median)\n",
    "print('Mode= ', mode)\n"
   ]
  },
  {
   "cell_type": "markdown",
   "metadata": {},
   "source": [
    "### Q4. Find the standard deviation for the given data: [178,177,176,177,178.2,178,175,179,180,175,178.9,176.2,177,172.5,178,176.5]\n",
    "Standard Deviation is a measure of the spread of data points from the mean.\n",
    "\n",
    "Step 1: Find the mean (from the previous question) = 177.775\n",
    "\n",
    "Step 2: Subtract the mean from each data point, square the result, and sum all the squared values.\n",
    "\n",
    "Step 3: Divide the sum by the total number of data points (n).\n",
    "\n",
    "Step 4: Take the square root of the result to get the standard deviation.\n",
    "\n",
    "Standard Deviation ≈ 1.934"
   ]
  },
  {
   "cell_type": "code",
   "execution_count": 3,
   "metadata": {},
   "outputs": [
    {
     "name": "stdout",
     "output_type": "stream",
     "text": [
      "Standard Deviation =  1.7885814036548633\n"
     ]
    }
   ],
   "source": [
    "data =  [178,177,176,177,178.2,178,175,179,180,175,178.9,176.2,177,172.5,178,176.5]\n",
    "import numpy as np\n",
    "print('Standard Deviation = ',np.std(data))"
   ]
  },
  {
   "cell_type": "markdown",
   "metadata": {},
   "source": [
    "### Q5. How are measures of dispersion such as range, variance, and standard deviation used to describe the spread of a dataset? Provide an example.\n",
    "\n",
    "Range: It is the difference between the largest and smallest values in the dataset. It provides a basic measure of spread but is sensitive to extreme values.\n",
    "\n",
    "Variance: It measures how much the data deviates from the mean. A higher variance indicates greater spread.\n",
    "\n",
    "Standard Deviation: It is the square root of variance and provides a more interpretable measure of spread.\n",
    "\n",
    "Example: Consider two datasets with the same mean but different spreads:\n",
    "\n",
    "Dataset 1: [1, 2, 3, 4, 5] - Mean = 3, Range = 4, Variance = 2.5, Standard Deviation ≈ 1.58\n",
    "\n",
    "Dataset 2: [1, 2, 3, 100, 101] - Mean = 41.4, Range = 100, Variance ≈ 2602.5, Standard Deviation ≈ 51.01"
   ]
  },
  {
   "cell_type": "markdown",
   "metadata": {},
   "source": [
    "### Q6. What is a Venn diagram?\n",
    "A Venn diagram is a graphical representation used to show the relationship between different sets. It consists of overlapping circles or ellipses, where each circle represents a set, and the overlapping regions represent the intersection between sets. Venn diagrams are commonly used to visualize set operations such as union, intersection, and complement.\n",
    "\n"
   ]
  },
  {
   "cell_type": "markdown",
   "metadata": {},
   "source": [
    "### Q7. For the two given sets A = (2,3,4,5,6,7) & B = (0,2,6,8,10). Find:\n",
    "#### (i) A ⋃ B (Union of sets A and B)\n",
    "#### (ii) A ⋂ B (Intersection of sets A and B)\n",
    "\n",
    "(i) A ⋃ B = {0, 2, 3, 4, 5, 6, 7, 8, 10}\n",
    "\n",
    "(ii) A ⋂ B = {2, 6}\n"
   ]
  },
  {
   "cell_type": "code",
   "execution_count": 5,
   "metadata": {},
   "outputs": [
    {
     "name": "stdout",
     "output_type": "stream",
     "text": [
      "A ⋃ B =  {2, 3, 4, 5, 6, 7}\n",
      "A ⋂ B =  {0, 2, 6, 8, 10}\n"
     ]
    }
   ],
   "source": [
    "A = {2,3,4,5,6,7}\n",
    "B = {0,2,6,8,10}\n",
    "print('A ⋃ B = ', A or B)\n",
    "print('A ⋂ B = ', A and B)\n"
   ]
  },
  {
   "cell_type": "markdown",
   "metadata": {},
   "source": [
    "### Q8. What do you understand about skewness in data?\n",
    "Skewness is a measure of the asymmetry of the probability distribution of a real-valued random variable. In a dataset, it indicates the extent to which the data is not symmetrical around the mean. If the data is skewed, it means it is not distributed symmetrically, and the tail on one side of the distribution is longer or heavier than the other."
   ]
  },
  {
   "cell_type": "markdown",
   "metadata": {},
   "source": [
    "### Q9. If a data is right-skewed then what will be the position of median with respect to mean?\n",
    "In a right-skewed distribution, the tail of the data is stretched to the right, and the mean is pulled in that direction. Consequently, the median will be less than the mean.\n",
    "\n"
   ]
  },
  {
   "cell_type": "markdown",
   "metadata": {},
   "source": [
    "### Q10. Explain the difference between covariance and correlation. How are these measures used in statistical analysis?\n",
    "\n",
    "Covariance: It measures the extent to which two variables change together. A positive covariance indicates that the variables tend to increase or decrease together, while a negative covariance indicates an inverse relationship.\n",
    "\n",
    "Correlation: It is a standardized version of covariance, which normalizes the values between -1 to +1. A correlation of +1 indicates a perfect positive relationship, -1 indicates a perfect negative relationship, and 0 indicates no linear relationship.\n",
    "\n",
    "Both covariance and correlation are used in statistical analysis to understand the relationship between two variables and to identify patterns in data. They are commonly used in finance, economics, social sciences, and many other fields.\n",
    "\n"
   ]
  },
  {
   "cell_type": "markdown",
   "metadata": {},
   "source": [
    "### Q11. What is the formula for calculating the sample mean? Provide an example calculation for a dataset.\n",
    "\n",
    "The formula for calculating the sample mean is:\n",
    "Sample Mean = (Sum of all data points) / (Number of data points)\n",
    "\n",
    "Example: Calculate the sample mean for the dataset [10, 12, 15, 8, 20]\n",
    "Sample Mean = (10 + 12 + 15 + 8 + 20) / 5 = 13\n",
    "\n"
   ]
  },
  {
   "cell_type": "markdown",
   "metadata": {},
   "source": [
    "### Q12. For a normal distribution data what is the relationship between its measure of central tendency?\n",
    "In a normal distribution, the mean, median, and mode are all equal. They are all located at the peak of the symmetric bell-shaped curve.\n",
    "\n"
   ]
  },
  {
   "cell_type": "markdown",
   "metadata": {},
   "source": [
    "### Q13. How is covariance different from correlation?\n",
    "\n",
    "Covariance and correlation both measure the relationship between two variables, but they have different scales:\n",
    "\n",
    "Covariance measures the magnitude of the relationship, and its scale depends on the scale of the variables.\n",
    "\n",
    "Correlation is a standardized measure, always ranging between -1 and +1, which indicates not only the magnitude of the relationship but also the direction (positive or negative).\n"
   ]
  },
  {
   "cell_type": "markdown",
   "metadata": {},
   "source": [
    "### Q14. How do outliers affect measures of central tendency and dispersion? Provide an example.\n",
    "Outliers can greatly affect measures of central tendency and dispersion:\n",
    "\n",
    "Central tendency: Outliers can significantly skew the mean, but they have less effect on the median and no effect on the mode.\n",
    "\n",
    "Dispersion: Outliers increase the range, variance, and standard deviation, which all measure the spread of the data.\n",
    "\n",
    "Example: Consider the dataset [1, 2, 3, 4, 5, 100]\n",
    "Without the outlier, the mean = 3 and standard deviation ≈ 1.41. With the outlier, the mean = 19.17 and standard deviation ≈ 39.50.\n",
    "\n",
    "\n",
    "\n",
    "\n",
    "\n"
   ]
  },
  {
   "cell_type": "markdown",
   "metadata": {},
   "source": []
  }
 ],
 "metadata": {
  "kernelspec": {
   "display_name": "Python 3.8.10 64-bit",
   "language": "python",
   "name": "python3"
  },
  "language_info": {
   "codemirror_mode": {
    "name": "ipython",
    "version": 3
   },
   "file_extension": ".py",
   "mimetype": "text/x-python",
   "name": "python",
   "nbconvert_exporter": "python",
   "pygments_lexer": "ipython3",
   "version": "3.8.10"
  },
  "orig_nbformat": 4,
  "vscode": {
   "interpreter": {
    "hash": "e7370f93d1d0cde622a1f8e1c04877d8463912d04d973331ad4851f04de6915a"
   }
  }
 },
 "nbformat": 4,
 "nbformat_minor": 2
}

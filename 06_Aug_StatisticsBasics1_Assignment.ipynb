{
 "cells": [
  {
   "cell_type": "markdown",
   "metadata": {},
   "source": [
    "\n",
    "\n",
    "### Q1. What is Statistics?\n",
    "Answer: Statistics is a branch of mathematics that involves collection, analysis, interpretation, presentation, and organization of data. In other words, it's a discipline that helps us understand and make sense of numerical data.\n",
    "\n",
    "### Q2. Define the different types of statistics and give an example of when each type might be used.\n",
    "Answer: There are two main types of statistics: Descriptive and Inferential.\n",
    "\n",
    "- Descriptive Statistics: These are used to describe the main features of a collection of data quantitatively. Descriptive statistics provide simple summaries about the sample and the measures. An example could be the calculation of the average grade in a class of students.\n",
    "\n",
    "- Inferential Statistics: These are techniques that allow us to use these samples to make generalizations about the populations from which the samples were drawn. An example could be a pharmaceutical company using inferential statistics to test the efficiency of a new drug based on a sample group.\n",
    "\n",
    "### Q3. What are the different types of data and how do they differ from each other? Provide an example of each type of data.\n",
    "Answer: Data can be categorized broadly into two types: Qualitative and Quantitative.\n",
    "\n",
    "- Qualitative Data (or categorical data): This type of data is descriptive information (it describes something). For example, the color of a car, the taste of a fruit.\n",
    "\n",
    "- Quantitative Data: This type of data is numerical information (numbers), and it can be further classified into two types: Discrete and Continuous. Discrete data represent items that can be counted; they take on possible values that can be listed out. For example, the number of students in a class. Continuous data represent measurements; their possible values cannot be counted and can only be described using intervals on the real number line. For example, weight of a person.\n",
    "\n",
    "### Q4. Categorise the following datasets with respect to quantitative and qualitative data types:\n",
    "- (i) Grading in exam: A+, A, B+, B, C+, C, D, E -> Qualitative Data\n",
    "- (ii) Colour of mangoes: yellow, green, orange, red -> Qualitative Data\n",
    "- (iii) Height data of a class: [178.9, 179, 179.5, 176, 177.2, 178.3, 175.8,...] -> Quantitative Data (Continuous)\n",
    "- (iv) Number of mangoes exported by a farm: [500, 600, 478, 672, ...] -> Quantitative Data (Discrete)\n",
    "\n",
    "### Q5. Explain the concept of levels of measurement and give an example of a variable for each level.\n",
    "Answer: The levels of measurement refer to the different ways numbers can be used. There are four levels of measurement: nominal, ordinal, interval, and ratio.\n",
    "\n",
    "- Nominal: Categorization without a particular order. For example, breed of a dog.\n",
    "- Ordinal: Categorization with a specific order. However, the differences between the categories are not 'standard'. For example, movie ratings from poor to excellent.\n",
    "- Interval: Ordered categories with the same difference between categories, but no 'true zero'. For example, temperature in Celsius.\n",
    "- Ratio: Same as interval but with a 'true zero'. For example, weight or height of a person.\n",
    "\n",
    "### Q6. Why is it important to understand the level of measurement when analyzing data? Provide an example to illustrate your answer.\n",
    "Answer: It's important to understand the level of measurement because it determines what statistical analysis is appropriate on the values that were assigned. For example, you cannot perform a meaningful calculation of mean or standard deviation on nominal or ordinal data. But, for interval or ratio data, you can perform such calculations.\n",
    "\n",
    "### Q7. How nominal data type is different from ordinal data type.\n",
    "Answer: Nominal data is a type of data that is used to label variables without providing any quantitative value. It is the simplest form of a scale of measure. For example, gender (Male, Female, Other) is a nominal variable. On the other hand, ordinal data is a type of data that refers to variables that have specific categories, but have a certain order (or rank). For example, a survey asking respondents to rate satisfaction from 1-5 (1 being very unsatisfied and 5 being very satisfied) is ordinal.\n",
    "\n",
    "### Q8. Which type of plot can be used to display data in terms of range?\n",
    "Answer: Box plots (or whisker plots) are great for displaying data in terms of range. The box shows the quartiles of the dataset while the whiskers extend to show the rest of the distribution, indicating variability outside the upper and lower quartiles.\n",
    "\n",
    "### Q9. Describe the difference between descriptive and inferential statistics. Give an example of each type of statistics and explain how they are used.\n",
    "Answer: Descriptive statistics describe what's going in your data. For example, having collected a set of test scores, you could calculate the mean score to get a sense of your typical performance. Inferential statistics, on the other hand, allow you to make predictions ('inferences') from that data. With inferential statistics, you take data from samples and make generalizations about a population. For example, you might stand in a mall and ask a sample of 100 people if they like shopping at the mall. Using inferential statistics, you can gauge whether your results are due to chance or to some factor of interest.\n",
    "\n",
    "### Q10. What are some common measures of central tendency and variability used in statistics? Explain how each measure can be used to describe a dataset.\n",
    "Answer: Measures of central tendency include mean, median, and mode. The mean is the arithmetic average of a set of numbers, or distribution. The median is the middle score for a set of data that has been arranged in order of magnitude. The mode is the most frequent score in our data set.\n",
    "Measures of variability include range,"
   ]
  },
  {
   "cell_type": "markdown",
   "metadata": {},
   "source": []
  }
 ],
 "metadata": {
  "kernelspec": {
   "display_name": "Python 3.8.10 64-bit",
   "language": "python",
   "name": "python3"
  },
  "language_info": {
   "name": "python",
   "version": "3.8.10"
  },
  "orig_nbformat": 4,
  "vscode": {
   "interpreter": {
    "hash": "e7370f93d1d0cde622a1f8e1c04877d8463912d04d973331ad4851f04de6915a"
   }
  }
 },
 "nbformat": 4,
 "nbformat_minor": 2
}

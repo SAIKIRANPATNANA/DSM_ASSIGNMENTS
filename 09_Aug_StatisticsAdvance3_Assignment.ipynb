{
 "cells": [
  {
   "cell_type": "markdown",
   "metadata": {},
   "source": [
    "\n",
    "\n",
    "**Q1: What is Estimation Statistics? Explain point estimate and interval estimate.**\n",
    "Estimation Statistics:\n",
    "- Estimation in statistics refers to the process of using sample data to estimate the population parameters.\n",
    "- **Point estimate**: A single number used as the best guess for the population parameter. For instance, the sample mean is a point estimate of the population mean.\n",
    "- **Interval estimate**: An interval or range of values used to estimate a population parameter. Confidence intervals are a common type of interval estimate.\n",
    "\n",
    "**Q2: Python function to estimate the population mean using a sample mean and standard deviation.**\n",
    "```python\n",
    "def estimate_population_mean(sample_mean):\n",
    "    return sample_mean\n",
    "```\n",
    "Note: Without additional information (like sample size or desired confidence level), the point estimate for the population mean is simply the sample mean.\n",
    "\n",
    "**Q3: What is Hypothesis testing? Why is it used? State the importance of Hypothesis testing.**\n",
    "- Hypothesis testing is a statistical method used to make decisions or inferences about population parameters based on sample data.\n",
    "- It is used to validate any claim or hypothesis about a parameter.\n",
    "- Importance: It helps in decision-making, scientific research validations, and understanding patterns in data.\n",
    "\n",
    "**Q4: Hypothesis for average weight of male vs. female college students.**\n",
    "\\( H_0 \\): \\( \\mu_{male} = \\mu_{female} \\) (The average weights of male and female students are the same.)\n",
    "\\( H_a \\): \\( \\mu_{male} > \\mu_{female} \\) (The average weight of male students is greater than that of female students.)\n",
    "\n",
    "**Q5: Python script for hypothesis test on difference between two population means.**\n",
    "```python\n",
    "from scipy.stats import ttest_ind\n",
    "\n",
    "def hypothesis_test(sample1, sample2):\n",
    "    t_stat, p_value = ttest_ind(sample1, sample2)\n",
    "    return t_stat, p_value\n",
    "```\n",
    "\n",
    "**Q6: What is a null and alternative hypothesis? Give some examples.**\n",
    "- **Null Hypothesis (\\( H_0 \\))**: A statement of no effect or no difference. It is the default assumption that there is no change or no association.\n",
    "- **Alternative Hypothesis (\\( H_a \\))**: A statement indicating the presence of an effect or difference.\n",
    "  Example: \n",
    "  \\( H_0 \\): The drug has no effect.\n",
    "  \\( H_a \\): The drug has an effect.\n",
    "\n",
    "**Q7: Steps involved in hypothesis testing.**\n",
    "1. State the null and alternative hypotheses.\n",
    "2. Choose a significance level (\\( \\alpha \\)).\n",
    "3. Determine the test statistic and its probability distribution.\n",
    "4. Calculate the test statistic from the sample data.\n",
    "5. Make a decision: reject or fail to reject the null hypothesis based on the p-value and significance level.\n",
    "\n",
    "**Q8: Define p-value and explain its significance in hypothesis testing.**\n",
    "- **P-value**: The probability of observing the sample data or something more extreme if the null hypothesis is true.\n",
    "- Significance: A small p-value indicates strong evidence against the null hypothesis, leading us to reject the null. A large p-value suggests weak evidence against the null hypothesis.\n",
    "\n",
    "**Q9: Generate a Student's t-distribution plot using Python's matplotlib library.**\n",
    "```python\n",
    "import numpy as np\n",
    "import matplotlib.pyplot as plt\n",
    "from scipy.stats import t\n",
    "\n",
    "x = np.linspace(-5, 5, 1000)\n",
    "y = t.pdf(x, df=10)\n",
    "\n",
    "plt.plot(x, y)\n",
    "plt.title(\"Student's t-distribution with df=10\")\n",
    "plt.xlabel(\"x\")\n",
    "plt.ylabel(\"Density\")\n",
    "plt.grid(True)\n",
    "plt.show()\n",
    "```\n",
    "\n",
    "**Q10: Python program for the two-sample t-test for independent samples.**\n",
    "```python\n",
    "from scipy.stats import ttest_ind\n",
    "\n",
    "def two_sample_ttest(sample1, sample2):\n",
    "    t_stat, p_value = ttest_ind(sample1, sample2, equal_var=False)\n",
    "    return t_stat, p_value\n",
    "```\n",
    "\n",
    "**Q11: What is Student’s t distribution? When to use the t-Distribution.**\n",
    "- Student's t-distribution is a probability distribution used in hypothesis testing and confidence interval estimation when the population standard deviation is unknown.\n",
    "- It's primarily used when the sample size is small (typically < 30) or when the population standard deviation is unknown.\n",
    "\n",
    "**Q12: What is t-statistic? State the formula for t-statistic.**\n",
    "- **T-statistic**: A statistic used in hypothesis testing to determine whether to reject the null hypothesis when the population variance is unknown.\n",
    "- Formula: \n",
    "\\[ t = \\frac{\\bar{x} - \\mu}{s/\\sqrt{n}} \\]\n",
    "Where \\( \\bar{x} \\) is the sample mean, \\( \\mu \\) is the population mean, \\( s \\) is the sample standard deviation, and \\( n \\) is the sample size.\n",
    "\n",
    "**Q13: Estimate the population mean with a 95% confidence interval.**\n",
    "```python\n",
    "from scipy.stats import t\n",
    "\n",
    "sample_mean = 500\n",
    "sample_std = 50\n",
    "n = 50\n",
    "confidence_level = 0.95\n",
    "df = n - 1\n",
    "\n",
    "margin_error = t.ppf((1 + confidence_level) / 2, df) * (sample_std/np.sqrt(n))\n",
    "confidence_interval = (sample_mean - margin_error, sample_mean + margin_error)\n",
    "```\n",
    "\n",
    "**Q14: Test the hypothesis with a significance level of 0.05.**\n",
    "```python\n",
    "sample_mean = 8\n",
    "population_mean = 10\n",
    "sample_std = 3\n",
    "n = 100\n",
    "alpha = 0.05\n",
    "\n",
    "t_stat = (sample_mean - population_mean) / (sample_std/np.sqrt(n))\n",
    "p_value = t.sf(np.abs(t_stat), df=n-1)\n",
    "\n",
    "decision = \"Reject H0\" if p_value < alpha else \"Fail to Reject H0\"\n",
    "```\n",
    "\n",
    "**Q15: Test the hypothesis that the true mean weight of the products is less than 5 pounds.**\n",
    "```python\n",
    "sample_mean = 4.8\n",
    "population_mean = 5\n",
    "sample_std = 0.5\n",
    "n = 25\n",
    "alpha = 0.01\n",
    "\n",
    "t_stat = (sample_mean - population_mean) / (sample_std/np.sqrt(n))\n",
    "p_value = t.cdf(t_stat, df=n-1)\n",
    "\n",
    "decision = \"Reject H0\" if p_value < alpha else \"Fail to Reject H0\"\n",
    "```\n",
    "\n",
    "**Q16: Test the hypothesis that the population means for the two groups are equal.**\n",
    "```python\n",
    "group1 = {\"mean\": 80, \"std\": 10, \"n\": 30}\n",
    "group2 = {\"mean\": 75, \"std\": 8, \"n\": 40}\n",
    "alpha = 0.01\n",
    "\n",
    "t_stat, p_value = two_sample_ttest(group1, group2)\n",
    "\n",
    "decision = \"Reject H0\" if p_value < alpha else \"Fail to Reject H0\"\n",
    "```\n",
    "\n",
    "**Q17: Estimate the population mean with a 99% confidence interval.**\n",
    "```python\n",
    "sample_mean = 4\n",
    "sample_std = 1.5\n",
    "n = 50\n",
    "confidence_level = 0.99\n",
    "df = n - 1\n",
    "\n",
    "margin_error = t.ppf((1 + confidence_level) / 2, df) * (sample_std/np.sqrt(n))"
   ]
  },
  {
   "cell_type": "code",
   "execution_count": null,
   "metadata": {},
   "outputs": [],
   "source": [
    "\n",
    "#Q2: more info is needed for the given question\n"
   ]
  },
  {
   "cell_type": "code",
   "execution_count": 2,
   "metadata": {},
   "outputs": [],
   "source": [
    "#Q5:\n",
    "from scipy.stats import ttest_ind\n",
    "def hypothesis_test(sample1, sample2):\n",
    "    t_stat, p_value = ttest_ind(sample1, sample2)\n",
    "    return t_stat, p_value\n"
   ]
  },
  {
   "cell_type": "code",
   "execution_count": 3,
   "metadata": {},
   "outputs": [
    {
     "data": {
      "image/png": "[encoded data removed]",
      "text/plain": [
       "<Figure size 640x480 with 1 Axes>"
      ]
     },
     "metadata": {},
     "output_type": "display_data"
    }
   ],
   "source": [
    "#Q9:\n",
    "\n",
    "import numpy as np\n",
    "import matplotlib.pyplot as plt\n",
    "from scipy.stats import t\n",
    "\n",
    "x = np.linspace(-5, 5, 1000)\n",
    "y = t.pdf(x, df=10)\n",
    "\n",
    "plt.plot(x, y)\n",
    "plt.title(\"Student's t-distribution with df=10\")\n",
    "plt.xlabel(\"x\")\n",
    "plt.ylabel(\"Density\")\n",
    "plt.grid(True)\n",
    "plt.show()"
   ]
  },
  {
   "cell_type": "code",
   "execution_count": 4,
   "metadata": {},
   "outputs": [],
   "source": [
    "#Q10 :\n",
    "from scipy.stats import ttest_ind\n",
    "\n",
    "def two_sample_ttest(sample1, sample2):\n",
    "    t_stat, p_value = ttest_ind(sample1, sample2, equal_var=False)\n",
    "    return t_stat, p_value"
   ]
  },
  {
   "cell_type": "code",
   "execution_count": 5,
   "metadata": {},
   "outputs": [],
   "source": [
    "#Q13:\n",
    "from scipy.stats import t\n",
    "\n",
    "sample_mean = 500\n",
    "sample_std = 50\n",
    "n = 50\n",
    "confidence_level = 0.95\n",
    "df = n - 1\n",
    "\n",
    "margin_error = t.ppf((1 + confidence_level) / 2, df) * (sample_std/np.sqrt(n))\n",
    "confidence_interval = (sample_mean - margin_error, sample_mean + margin_error)"
   ]
  },
  {
   "cell_type": "code",
   "execution_count": 6,
   "metadata": {},
   "outputs": [
    {
     "name": "stdout",
     "output_type": "stream",
     "text": [
      "Reject Null Hypothesis\n"
     ]
    }
   ],
   "source": [
    "#Q14:\n",
    "import numpy as np\n",
    "from scipy.stats import t\n",
    "\n",
    "sample_mean = 8\n",
    "population_mean = 10\n",
    "sample_std = 3\n",
    "n = 100\n",
    "alpha = 0.05\n",
    "\n",
    "t_stat = (sample_mean - population_mean) / (sample_std/np.sqrt(n))\n",
    "p_value = t.sf(np.abs(t_stat), df=n-1)\n",
    "if p_value>alpha: \n",
    "    print('Fail to reject Null Hypothesis')\n",
    "else:\n",
    "    print('Reject Null Hypothesis')"
   ]
  },
  {
   "cell_type": "code",
   "execution_count": 8,
   "metadata": {},
   "outputs": [
    {
     "name": "stdout",
     "output_type": "stream",
     "text": [
      "Fail to Reject H0\n"
     ]
    }
   ],
   "source": [
    "#Q15:\n",
    "sample_mean = 4.8\n",
    "population_mean = 5\n",
    "sample_std = 0.5\n",
    "n = 25\n",
    "alpha = 0.01\n",
    "\n",
    "t_stat = (sample_mean - population_mean) / (sample_std/np.sqrt(n))\n",
    "p_value = t.cdf(t_stat, df=n-1)\n",
    "\n",
    "decision = \"Reject H0\" if p_value < alpha else \"Fail to Reject H0\"\n",
    "print(decision)"
   ]
  },
  {
   "cell_type": "code",
   "execution_count": 13,
   "metadata": {},
   "outputs": [
    {
     "data": {
      "text/plain": [
       "' #Q16: \\nfrom scipy.stats import ttest_ind\\n\\ndef two_sample_ttest(sample1, sample2):\\n    t_stat, p_value = ttest_ind(sample1, sample2, equal_var=False)\\n    return t_stat, p_value\\n\\ngroup1 = {\"mean\": 80, \"std\": 10, \"n\": 30}\\ngroup2 = {\"mean\": 75, \"std\": 8, \"n\": 40}\\nalpha = 0.01\\n\\nt_stat, p_value = two_sample_ttest(group1, group2)\\n\\ndecision = \"Reject H0\" if p_value < alpha else \"Fail to Reject H0\"\\nprint(decision) '"
      ]
     },
     "execution_count": 13,
     "metadata": {},
     "output_type": "execute_result"
    }
   ],
   "source": [
    "''' #Q16: \n",
    "from scipy.stats import ttest_ind\n",
    "\n",
    "def two_sample_ttest(sample1, sample2):\n",
    "    t_stat, p_value = ttest_ind(sample1, sample2, equal_var=False)\n",
    "    return t_stat, p_value\n",
    "\n",
    "group1 = {\"mean\": 80, \"std\": 10, \"n\": 30}\n",
    "group2 = {\"mean\": 75, \"std\": 8, \"n\": 40}\n",
    "alpha = 0.01\n",
    "\n",
    "t_stat, p_value = two_sample_ttest(group1, group2)\n",
    "\n",
    "decision = \"Reject H0\" if p_value < alpha else \"Fail to Reject H0\"\n",
    "print(decision) '''\n"
   ]
  },
  {
   "cell_type": "code",
   "execution_count": 9,
   "metadata": {},
   "outputs": [
    {
     "data": {
      "text/plain": [
       "-3.952847075210474"
      ]
     },
     "execution_count": 9,
     "metadata": {},
     "output_type": "execute_result"
    }
   ],
   "source": [
    "(75-80)/(8/(40**0.5))"
   ]
  },
  {
   "cell_type": "code",
   "execution_count": 14,
   "metadata": {},
   "outputs": [],
   "source": [
    "#Q17:\n",
    "sample_mean = 4\n",
    "sample_std = 1.5\n",
    "n = 50\n",
    "confidence_level = 0.99\n",
    "df = n - 1\n",
    "\n",
    "margin_error = t.ppf((1 + confidence_level) / 2, df) * (sample_std/np.sqrt(n))"
   ]
  },
  {
   "cell_type": "markdown",
   "metadata": {},
   "source": []
  }
 ],
 "metadata": {
  "kernelspec": {
   "display_name": "Python 3.8.10 64-bit",
   "language": "python",
   "name": "python3"
  },
  "language_info": {
   "codemirror_mode": {
    "name": "ipython",
    "version": 3
   },
   "file_extension": ".py",
   "mimetype": "text/x-python",
   "name": "python",
   "nbconvert_exporter": "python",
   "pygments_lexer": "ipython3",
   "version": "3.8.10"
  },
  "orig_nbformat": 4,
  "vscode": {
   "interpreter": {
    "hash": "e7370f93d1d0cde622a1f8e1c04877d8463912d04d973331ad4851f04de6915a"
   }
  }
 },
 "nbformat": 4,
 "nbformat_minor": 2
}

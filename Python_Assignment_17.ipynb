{
 "cells": [
  {
   "cell_type": "markdown",
   "metadata": {},
   "source": [
    "Q1. **Explain GET and POST methods.**\n",
    "\n",
    "- **GET method:** The GET method is used to request data from a specified resource. It sends data as part of the URL string, typically through query parameters. It is primarily used for retrieving data and should not be used for sensitive or confidential information since the data is visible in the URL.\n",
    "\n",
    "- **POST method:** The POST method is used to submit data to be processed to a specified resource. It sends data in the request body, which can include a variety of data types such as form data, JSON, or XML. It is commonly used for submitting forms, uploading files, or making changes to server-side data.\n",
    "\n",
    "Q2. **Why is request used in Flask?**\n",
    "\n",
    "- The `request` object in Flask is used to access incoming request data in Flask applications. It provides access to various attributes and methods that allow developers to interact with the data sent by the client, such as form data, query parameters, headers, and cookies. The `request` object is essential for handling user input, processing form submissions, and making decisions based on the incoming request data.\n",
    "\n",
    "Q3. **Why is redirect() used in Flask?**\n",
    "\n",
    "- The `redirect()` function in Flask is used to redirect the client to a different URL. It is commonly used to perform URL redirections after form submissions, authentication, or other actions that require redirection to another page or endpoint. By using `redirect()`, Flask can instruct the client's browser to make a new request to the specified URL, resulting in a seamless navigation experience for the user.\n",
    "\n",
    "Q4. **What are templates in Flask? Why is the render_template() function used?**\n",
    "\n",
    "- **Templates in Flask:** Templates in Flask are files containing HTML markup with placeholders for dynamic content. They allow developers to separate the presentation layer from the application logic, enabling the creation of dynamic and reusable web pages. Flask uses the Jinja2 templating engine to render templates and fill in the placeholders with dynamic data.\n",
    "\n",
    "- **render_template() function:** The `render_template()` function in Flask is used to render HTML templates and pass dynamic data to them. It takes the name of the template file as an argument, along with any additional data to be injected into the template. By using `render_template()`, Flask can dynamically generate HTML content based on the specified template file and the provided data, allowing for the creation of dynamic and interactive web pages.\n",
    "\n",
    "Q5. **Create a simple API. Use Postman to test it. Attach the screenshot of the output in the Jupyter Notebook.**\n",
    "\n",
    "```python\n",
    "from flask import Flask, jsonify\n",
    "\n",
    "app = Flask(__name__)\n",
    "\n",
    "@app.route('/api/hello', methods=['GET'])\n",
    "def hello():\n",
    "    return jsonify({'message': 'Hello, World!'})\n",
    "\n",
    "if __name__ == '__main__':\n",
    "    app.run(debug=True)\n",
    "```\n",
    "\n",
    "In this example, we create a simple API endpoint `/api/hello` that returns a JSON response with a greeting message. We use the `jsonify()` function to convert the Python dictionary into JSON format. To test this API, we can use Postman to send a GET request to `http://localhost:5000/api/hello` and verify the response.\n"
   ]
  },
  {
   "cell_type": "code",
   "execution_count": null,
   "metadata": {},
   "outputs": [],
   "source": []
  }
 ],
 "metadata": {
  "language_info": {
   "name": "python"
  }
 },
 "nbformat": 4,
 "nbformat_minor": 2
}

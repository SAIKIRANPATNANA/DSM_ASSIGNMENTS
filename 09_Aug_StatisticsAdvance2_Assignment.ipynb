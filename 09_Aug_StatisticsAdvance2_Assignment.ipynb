{
 "cells": [
  {
   "cell_type": "markdown",
   "metadata": {},
   "source": [
    "\n",
    "**Q1:** What are the Probability Mass Function (PMF) and Probability Density Function (PDF)? Explain with\n",
    "an example.\n",
    "- **PMF**: Applicable to discrete random variables. It gives the probability that the discrete random variable is exactly equal to some value.\n",
    "  *Example*: The roll of a fair six-sided die. The PMF would assign a probability of 1/6 to each of the six possible outcomes.\n",
    "  \n",
    "- **PDF**: Applicable to continuous random variables. It describes the likelihood of a random variable taking on a value within a specific interval.\n",
    "  *Example*: The height of people. Since height is a continuous variable, we use the PDF to find the probability that height falls in a specific interval, say between 5'6\" and 5'8\".\n",
    "\n",
    "**Q2:** What is Cumulative Density Function (CDF)? Explain with an example. Why CDF is used?\n",
    "- The CDF of a random variable is the probability that the variable takes a value less than or equal to x. It can be used for both discrete and continuous distributions.\n",
    "  *Example*: If we have a dataset of student grades, the CDF at 85% would give the probability a student scored 85% or less.\n",
    "  **Why CDF is used**: CDF provides a way to determine the probability that a random observation will fall between two values and to visualize and describe the distribution of the data.\n",
    "\n",
    "**Q3:** What are some examples of situations where the normal distribution might be used as a model?\n",
    "Explain how the parameters of the normal distribution relate to the shape of the distribution.\n",
    "- Situations: Stock market returns, measurement errors, heights of people, test scores.\n",
    "  *Shape Parameters*: The normal distribution is defined by two parameters: the mean (µ) and the standard deviation (σ). The mean determines the center of the distribution, and the standard deviation determines the spread or width of the distribution.\n",
    "\n",
    "**Q4:** Explain the importance of Normal Distribution. Give a few real-life examples of Normal\n",
    "Distribution.\n",
    "- It describes many natural phenomena, simplifies statistical analyses, and underpins many statistical methods. \n",
    "  *Real-life examples*: IQ scores, heights of individuals, sizes of things produced by machines.\n",
    "\n",
    "**Q5:** What is Bernaulli Distribution? Give an Example. What is the difference between Bernoulli\n",
    "Distribution and Binomial Distribution?\n",
    "- It describes a random event with only two possible outcomes: success (1) or failure (0).\n",
    "  *Example*: A coin flip (heads or tails).\n",
    "  **Difference from Binomial Distribution**: The Bernoulli distribution describes a single trial, while the binomial distribution describes the number of successes over multiple Bernoulli trials.\n",
    "\n",
    "**Q6:** Consider a dataset with a mean of 50 and a standard deviation of 10. If we assume that the dataset\n",
    "is normally distributed, what is the probability that a randomly selected observation will be greater\n",
    "than 60? Use the appropriate formula and show your calculations.\n",
    "- To find the probability \\( P(X > 60) \\), you would first calculate the z-score: \\( z = (X - \\mu) / \\sigma = (60 - 50) / 10 = 1 \\). \n",
    "  Using a z-table, the area to the left of z=1 is 0.8413. Therefore, \\( P(X > 60) = 1 - 0.8413 = 0.1587 \\).\n",
    "\n",
    "**Q7:** Explain uniform Distribution with an example.\n",
    "- All outcomes are equally likely within a specified range.\n",
    "  *Example*: Rolling a fair six-sided die. Each of the six outcomes has an equal 1/6 chance of occurring.\n",
    "\n",
    "**Q8:** What is the z score? State the importance of the z score.\n",
    "- It represents how many standard deviations away a value is from the mean. \n",
    "  **Importance**: It allows comparison of scores from different distributions and provides a way to standardize values.\n",
    "\n",
    "**Q9:** What is Central Limit Theorem? State the significance of the Central Limit Theorem.\n",
    "- The CLT states that the distribution of the sum (or average) of a large number of independent, identically distributed random variables approaches a normal distribution, regardless of the shape of the original distribution.\n",
    "  **Significance**: It allows us to make statistical inferences using the normal distribution even for non-normally distributed data, given a sufficiently large sample size.\n",
    "\n",
    "**Q10:** State the assumptions of the Central Limit Theorem.\n",
    "1. Samples are randomly drawn.\n",
    "2. Samples are independent.\n",
    "3. Sample size is sufficiently large (often cited as n > 30).\n",
    "4. The population has a finite standard deviation.\n",
    "\n"
   ]
  },
  {
   "cell_type": "code",
   "execution_count": null,
   "metadata": {},
   "outputs": [],
   "source": []
  }
 ],
 "metadata": {
  "kernelspec": {
   "display_name": "Python 3.8.10 64-bit",
   "language": "python",
   "name": "python3"
  },
  "language_info": {
   "name": "python",
   "version": "3.8.10"
  },
  "orig_nbformat": 4,
  "vscode": {
   "interpreter": {
    "hash": "e7370f93d1d0cde622a1f8e1c04877d8463912d04d973331ad4851f04de6915a"
   }
  }
 },
 "nbformat": 4,
 "nbformat_minor": 2
}

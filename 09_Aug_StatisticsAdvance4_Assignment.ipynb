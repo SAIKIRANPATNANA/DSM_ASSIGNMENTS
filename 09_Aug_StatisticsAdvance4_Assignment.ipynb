{
 "cells": [
  {
   "cell_type": "markdown",
   "metadata": {},
   "source": [
    "### Q1: What is the difference between a t-test and a z-test? Provide an example scenario where you would\n",
    "use each type of test.\n",
    "\n",
    "- *t-test*: Used when the population standard deviation is unknown and the sample size is small. It is based on Student's t-distribution.\n",
    "- *z-test*: Used when the population standard deviation is known and the sample size is large. It follows a normal distribution.\n",
    "  \n",
    "*Example Scenario*:\n",
    "- *t-test*: Comparing the mean scores of a new SAT coaching method when the population standard deviation is unknown and sample size is, say, 20 students.\n",
    "- *z-test*: Comparing the mean height of adult men from two different countries, where we have a large sample and know the population standard deviations.\n",
    "\n",
    "### Q2: Differentiate between one-tailed and two-tailed tests.\n",
    "\n",
    "- *One-tailed test*: Hypothesis test in which the values for which we're testing lie entirely in one tail of the distribution.\n",
    "- *Two-tailed test*: Tests for a difference in either direction, both left or right tail.\n",
    "\n",
    "### Q3: Explain the concept of Type 1 and Type 2 errors in hypothesis testing. Provide an example scenario for\n",
    "each type of error.\n",
    "\n",
    "- *Type 1 (False Positive)*: Rejecting a true null hypothesis.\n",
    "  - Example: Declaring a drug effective when it's not.\n",
    "- *Type 2 (False Negative)*: Failing to reject a false null hypothesis.\n",
    "  - Example: Not identifying a disease in a patient when they do have it.\n",
    "\n",
    "### Q4: Explain Bayes's theorem with an example.\n",
    "Bayes' theorem describes the probability of an event, based on prior knowledge of conditions that might be related to the event.\n",
    "\n",
    "Example: The probability of someone having a disease given a positive test result can be found using Bayes' theorem.\n",
    "\n",
    "### Q5: What is a confidence interval? How to calculate the confidence interval, explain with an example.\n",
    "Interval estimate of a population parameter. The confidence level represents the frequency (i.e., the proportion) of possible confidence intervals that contain the true value of the unknown population parameter.\n",
    "\n",
    "Example: If we have a sample mean of 50 and standard error of 5, the 95% confidence interval is 50 ± (1.96*5), or 40 to 60.\n",
    "\n",
    "### Q6. Use Bayes' Theorem to calculate the probability of an event occurring given prior knowledge of the\n",
    "### event's probability and new evidence. Provide a sample problem and solution.\n",
    "\n",
    "Suppose a rare disease affects 1 in 10,000 people, and a test that's 99% accurate (both for true positives and true negatives). If you test positive, what's the probability you have the disease?\n",
    "\n",
    "P(Disease|Positive Test) = [P(Positive Test|Disease) * P(Disease)] / P(Positive Test)\n",
    "\n",
    "The solution would involve plugging in the known probabilities and solving:\n",
    "P(Disease|Positive Test) = (0.99*1e-4)\n",
    "\n",
    "### Q7. Calculate the 95% confidence interval for a sample of data with a mean of 50 and a standard deviation\n",
    "### of 5. Interpret the results.\n",
    "For a normal distribution, the z-value for 95% confidence is 1.96.\n",
    "\n",
    "Interval = Mean ± (Z-value * (Standard Deviation/sqrt(n)))\n",
    "\n",
    "Interval = 50 ± (1.96 * (5/sqrt(50))) = (48.61,51.38)\n",
    "\n",
    "### Q8. What is the margin of error in a confidence interval? How does sample size affect the margin of error?\n",
    "Provide an example of a scenario where a larger sample size would result in a smaller margin of error.\n",
    "It's half the width of the confidence interval. Smaller sample sizes lead to larger margins of error.\n",
    "\n",
    "Example: In political polling, a poll of 500 people might have a margin of error of 5%, but a poll of 2,000 people might have a margin of error of 2%.\n",
    "\n",
    "### Q9. Calculate the z-score for a data point with a value of 75, a population mean of 70, and a population\n",
    "### standard deviation of 5. Interpret the results.\n",
    "z = (X - µ) / σ\n",
    "z = (75-70) / 5\n",
    "z = 1\n",
    "\n",
    "### Q10. In a study of the effectiveness of a new weight loss drug, a sample of 50 participants lost an average\n",
    "### of 6 pounds with a standard deviation of 2.5 pounds. Conduct a hypothesis test to determine if the drug is\n",
    "### significantly effective at a 95% confidence level using a t-test.\n",
    "\n",
    "\n",
    "### Q11. In a survey of 500 people, 65% reported being satisfied with their current job. Calculate the 95%\n",
    "### confidence interval for the true proportion of people who are satisfied with their job.\n",
    "With a sample proportion of 0.65, the margin of error for a 95% CI is:\n",
    "1.96 * sqrt((0.65*0.35)/500)\n",
    "\n",
    "### Q12. A researcher is testing the effectiveness of two different teaching methods on student performance.\n",
    "Sample A has a mean score of 85 with a standard deviation of 6, while sample B has a mean score of 82\n",
    "with a standard deviation of 5. Conduct a hypothesis test to determine if the two teaching methods have a\n",
    "significant difference in student performance using a t-test with a significance level of 0.01.\n",
    "\n",
    "\n",
    "### Q13. A population has a mean of 60 and a standard deviation of 8. A sample of 50 observations has a mean\n",
    "### of 65. Calculate the 90% confidence interval for the true population mean.\n",
    "For a z-distribution, the z-value for 90% confidence is 1.645.\n",
    "Interval = 65 ± (1.645 * (8/sqrt(50)))\n",
    "\n",
    "### Q14. In a study of the effects of caffeine on reaction time, a sample of 30 participants had an average\n",
    "### reaction time of 0.25 seconds with a standard deviation of 0.05 seconds. Conduct a hypothesis test to\n",
    "### determine if the caffeine has a significant effect on reaction time at a 90% confidence level using a t-test.\n",
    "Given the data, set up a null hypothesis (no effect of caffeine) and an alternative (caffeine affects reaction time). Use a t-distribution with n-1 degrees of freedom to test.\n"
   ]
  },
  {
   "cell_type": "code",
   "execution_count": 2,
   "metadata": {},
   "outputs": [
    {
     "data": {
      "text/plain": [
       "48.614070708874365"
      ]
     },
     "execution_count": 2,
     "metadata": {},
     "output_type": "execute_result"
    }
   ],
   "source": [
    "50 - (1.96 * (5/(50**0.5)))"
   ]
  },
  {
   "cell_type": "markdown",
   "metadata": {},
   "source": []
  }
 ],
 "metadata": {
  "kernelspec": {
   "display_name": "Python 3.8.10 64-bit",
   "language": "python",
   "name": "python3"
  },
  "language_info": {
   "codemirror_mode": {
    "name": "ipython",
    "version": 3
   },
   "file_extension": ".py",
   "mimetype": "text/x-python",
   "name": "python",
   "nbconvert_exporter": "python",
   "pygments_lexer": "ipython3",
   "version": "3.8.10"
  },
  "orig_nbformat": 4,
  "vscode": {
   "interpreter": {
    "hash": "e7370f93d1d0cde622a1f8e1c04877d8463912d04d973331ad4851f04de6915a"
   }
  }
 },
 "nbformat": 4,
 "nbformat_minor": 2
}

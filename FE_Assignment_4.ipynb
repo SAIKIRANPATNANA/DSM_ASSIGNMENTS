{
 "cells": [
  {
   "cell_type": "markdown",
   "metadata": {},
   "source": [
    "**Q1: Pearson Correlation Coefficient for Studying Time and Exam Scores**\n",
    "\n",
    "To calculate the Pearson correlation coefficient between the amount of time students spend studying for an exam and their final exam scores, you can use the formula:\n",
    "\n",
    "\\[ r = \\frac{n(\\sum xy) - (\\sum x)(\\sum y)}{\\sqrt{[n\\sum x^2 - (\\sum x)^2][n\\sum y^2 - (\\sum y)^2]}} \\]\n",
    "\n",
    "Where:\n",
    "- \\( n \\) is the number of data points.\n",
    "- \\( x \\) is the studying time.\n",
    "- \\( y \\) is the exam scores.\n",
    "- \\( \\sum xy \\) is the sum of the product of each pair of corresponding values.\n",
    "- \\( \\sum x \\) and \\( \\sum y \\) are the sums of the studying time and exam scores, respectively.\n",
    "- \\( \\sum x^2 \\) and \\( \\sum y^2 \\) are the sums of the squares of the studying time and exam scores, respectively.\n",
    "\n",
    "Interpretation:\n",
    "- If \\( r = 1 \\): Perfect positive correlation (as studying time increases, exam scores increase).\n",
    "- If \\( r = -1 \\): Perfect negative correlation (as studying time increases, exam scores decrease).\n",
    "- If \\( r = 0 \\): No correlation.\n",
    "\n",
    "**Q2: Spearman's Rank Correlation for Sleep and Job Satisfaction**\n",
    "\n",
    "To calculate the Spearman's rank correlation between the amount of sleep individuals get each night and their overall job satisfaction level, you can use the formula:\n",
    "\n",
    "\\[ \\rho = 1 - \\frac{6\\sum d^2}{n(n^2 - 1)} \\]\n",
    "\n",
    "Where:\n",
    "- \\( \\rho \\) is the Spearman's rank correlation coefficient.\n",
    "- \\( d \\) is the difference between the ranks of corresponding pairs of data points.\n",
    "- \\( n \\) is the number of data points.\n",
    "\n",
    "Interpretation:\n",
    "- If \\( \\rho = 1 \\): Perfect monotonic positive correlation.\n",
    "- If \\( \\rho = -1 \\): Perfect monotonic negative correlation.\n",
    "- If \\( \\rho = 0 \\): No monotonic correlation.\n",
    "\n",
    "**Q3: Comparison of Pearson and Spearman Correlation**\n",
    "\n",
    "You can calculate both the Pearson correlation coefficient and Spearman's rank correlation for the relationship between the number of hours of exercise per week and body mass index (BMI) in a sample of adults. Then, compare the results to understand the nature of the relationship. Pearson correlation assesses linear relationships, while Spearman's rank correlation assesses monotonic relationships, making them suitable for different types of data.\n",
    "\n",
    "**Q4: Pearson Correlation Coefficient for TV Watching Time and Physical Activity**\n",
    "\n",
    "Calculate the Pearson correlation coefficient between the number of hours individuals spend watching television per day and their level of physical activity. Use the formula mentioned in Q1 to compute the correlation coefficient and interpret the result accordingly.\n",
    "\n",
    "**Q5: Relationship Between Age and Soft Drink Preference**\n",
    "\n",
    "You need to provide the survey results (data) to calculate the correlation coefficient between age and preference for a particular brand of soft drink. Once you have the data, you can use Pearson correlation coefficient to assess the linear relationship between age and soft drink preference.\n",
    "\n",
    "**Q6: Pearson Correlation Coefficient for Sales Calls and Sales Made**\n",
    "\n",
    "Calculate the Pearson correlation coefficient between the number of sales calls made per day and the number of sales made per week for the company's sales representatives. Use the formula from Q1 to compute the correlation coefficient and interpret the result to understand the relationship between the variables."
   ]
  },
  {
   "cell_type": "code",
   "execution_count": null,
   "metadata": {},
   "outputs": [],
   "source": []
  }
 ],
 "metadata": {
  "language_info": {
   "name": "python"
  }
 },
 "nbformat": 4,
 "nbformat_minor": 2
}
